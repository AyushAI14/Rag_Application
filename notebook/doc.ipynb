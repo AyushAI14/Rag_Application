{
 "cells": [
  {
   "cell_type": "code",
   "execution_count": 10,
   "id": "09f97cb2",
   "metadata": {},
   "outputs": [],
   "source": [
    "from langchain_core.documents import Document\n",
    "import os"
   ]
  },
  {
   "cell_type": "code",
   "execution_count": 11,
   "id": "8ff301f0",
   "metadata": {},
   "outputs": [],
   "source": [
    "os.makedirs('../data/text_file',exist_ok=True)\n",
    "os.makedirs('../data/pdf_file',exist_ok=True)\n"
   ]
  },
  {
   "cell_type": "code",
   "execution_count": 12,
   "id": "a738558f",
   "metadata": {},
   "outputs": [],
   "source": [
    "text = {\n",
    "    '../data/text_file/Python.txt':\"\"\"\n",
    "    Python is a high-level, versatile programming language widely used for data science, machine learning, web development, and automation. Its simplicity\n",
    "    , rich ecosystem of libraries, and strong community support make it the go-to language for both beginners and professionals.\"\"\",\n",
    "    '../data/text_file/Rag.txt':\"\"\"\n",
    "    RAG is an advanced approach in large language models where external knowledge sources are combined with model outputs. It retrieves relevant documents\n",
    "     from a database or search system and feeds them into the LLM, improving accuracy, domain adaptation, and freshness of responses.\n",
    "    \"\"\"\n",
    "}\n",
    "\n",
    "for filepath,content in text.items():\n",
    "  with open(filepath,'w') as f:\n",
    "    f.write(content)\n"
   ]
  },
  {
   "cell_type": "markdown",
   "id": "4138cb8c",
   "metadata": {},
   "source": [
    "## Text Loader"
   ]
  },
  {
   "cell_type": "code",
   "execution_count": 13,
   "id": "dab3e91b",
   "metadata": {},
   "outputs": [
    {
     "data": {
      "text/plain": [
       "[Document(metadata={'source': '../data/text_file/Python.txt'}, page_content='\\n    Python is a high-level, versatile programming language widely used for data science, machine learning, web development, and automation. Its simplicity\\n    , rich ecosystem of libraries, and strong community support make it the go-to language for both beginners and professionals.')]"
      ]
     },
     "execution_count": 13,
     "metadata": {},
     "output_type": "execute_result"
    }
   ],
   "source": [
    "from langchain_community.document_loaders import TextLoader\n",
    "f = TextLoader('../data/text_file/Python.txt',encoding='utf-8')\n",
    "doc = f.load()\n",
    "doc"
   ]
  },
  {
   "cell_type": "markdown",
   "id": "328426bb",
   "metadata": {},
   "source": [
    "### for directory loader"
   ]
  },
  {
   "cell_type": "code",
   "execution_count": 14,
   "id": "72c9ec55",
   "metadata": {},
   "outputs": [
    {
     "name": "stderr",
     "output_type": "stream",
     "text": [
      "100%|██████████| 2/2 [00:00<00:00, 2456.40it/s]"
     ]
    },
    {
     "name": "stdout",
     "output_type": "stream",
     "text": [
      "[Document(metadata={'source': '../data/text_file/Rag.txt'}, page_content='\\n    RAG is an advanced approach in large language models where external knowledge sources are combined with model outputs. It retrieves relevant documents\\n     from a database or search system and feeds them into the LLM, improving accuracy, domain adaptation, and freshness of responses.\\n    '), Document(metadata={'source': '../data/text_file/Python.txt'}, page_content='\\n    Python is a high-level, versatile programming language widely used for data science, machine learning, web development, and automation. Its simplicity\\n    , rich ecosystem of libraries, and strong community support make it the go-to language for both beginners and professionals.')]\n"
     ]
    },
    {
     "name": "stderr",
     "output_type": "stream",
     "text": [
      "\n"
     ]
    }
   ],
   "source": [
    "from langchain_community.document_loaders import DirectoryLoader\n",
    "\n",
    "dirload  = DirectoryLoader(\n",
    "    path='../data/text_file',\n",
    "    loader_cls=TextLoader,\n",
    "    loader_kwargs={'encoding':'utf-8'},\n",
    "    show_progress=True\n",
    ")\n",
    "dir_docs = dirload.load()\n",
    "print(dir_docs)"
   ]
  },
  {
   "cell_type": "code",
   "execution_count": null,
   "id": "b76c0406",
   "metadata": {},
   "outputs": [
    {
     "name": "stdout",
     "output_type": "stream",
     "text": [
      "9\n"
     ]
    }
   ],
   "source": [
    "from langchain_community.document_loaders import PyPDFLoader,PyMuPDFLoader\n",
    "\n",
    "dirload  = DirectoryLoader(\n",
    "    path='../data/pdf_file/',\n",
    "    glob='**/*.pdf',\n",
    "    loader_cls=PyMuPDFLoader\n",
    ")\n",
    "dir_docs = dirload.load()\n",
    "print(len(dir_docs))"
   ]
  },
  {
   "cell_type": "code",
   "execution_count": null,
   "id": "1bf8b062",
   "metadata": {},
   "outputs": [],
   "source": []
  },
  {
   "cell_type": "code",
   "execution_count": null,
   "id": "15779891",
   "metadata": {},
   "outputs": [],
   "source": []
  },
  {
   "cell_type": "code",
   "execution_count": 19,
   "id": "5c4e3d86",
   "metadata": {},
   "outputs": [
    {
     "name": "stdout",
     "output_type": "stream",
     "text": [
      "Split blog post into 42 sub-documents.\n"
     ]
    }
   ],
   "source": [
    "# splitting from langchain_text_splitters import RecursiveCharacterTextSplitter\n",
    "from langchain_text_splitters import RecursiveCharacterTextSplitter\n",
    "\n",
    "text_splitter = RecursiveCharacterTextSplitter(\n",
    "    chunk_size=500,  # chunk size (characters)\n",
    "    chunk_overlap=200,  # chunk overlap (characters)\n",
    "    add_start_index=True,  # track index in original document\n",
    ")\n",
    "all_splits = text_splitter.split_documents(dir_docs)\n",
    "\n",
    "print(f\"Split blog post into {len(all_splits)} sub-documents.\")"
   ]
  },
  {
   "cell_type": "code",
   "execution_count": 20,
   "id": "dbd8a2a0",
   "metadata": {},
   "outputs": [
    {
     "data": {
      "text/plain": [
       "[Document(metadata={'producer': 'cairo 1.18.0 (https://cairographics.org)', 'creator': '', 'creationdate': '2025-01-14T15:25:37+05:30', 'source': '../data/pdf_file/output.pdf', 'file_path': '../data/pdf_file/output.pdf', 'total_pages': 8, 'format': 'PDF 1.7', 'title': '', 'author': '', 'subject': '', 'keywords': '', 'moddate': '', 'trapped': '', 'modDate': '', 'creationDate': \"D:20250114152537+05'30\", 'page': 0, 'start_index': 0}, page_content='7 – Seeing the World as the Shell Sees It\\n7 – Seeing the World as the Shell Sees It\\nIn this chapter we are going to look at some of the “magic” that occurs on the command\\nline when we press the Enter key. While we will examine several interesting and complex\\nfeatures of the shell, we will do it with just one new command.\\n●\\necho – Display a line of text\\nExpansion\\nEach time we type a command and press the Enter key, bash performs several substitu-'),\n",
       " Document(metadata={'producer': 'cairo 1.18.0 (https://cairographics.org)', 'creator': '', 'creationdate': '2025-01-14T15:25:37+05:30', 'source': '../data/pdf_file/output.pdf', 'file_path': '../data/pdf_file/output.pdf', 'total_pages': 8, 'format': 'PDF 1.7', 'title': '', 'author': '', 'subject': '', 'keywords': '', 'moddate': '', 'trapped': '', 'modDate': '', 'creationDate': \"D:20250114152537+05'30\", 'page': 0, 'start_index': 259}, page_content='features of the shell, we will do it with just one new command.\\n●\\necho – Display a line of text\\nExpansion\\nEach time we type a command and press the Enter key, bash performs several substitu-\\ntions upon the text before it carries out our command. We have seen a couple of cases of\\nhow a simple character sequence, for example *, can have a lot of meaning to the shell.\\nThe process that makes this happen is called expansion. With expansion, we enter some-'),\n",
       " Document(metadata={'producer': 'cairo 1.18.0 (https://cairographics.org)', 'creator': '', 'creationdate': '2025-01-14T15:25:37+05:30', 'source': '../data/pdf_file/output.pdf', 'file_path': '../data/pdf_file/output.pdf', 'total_pages': 8, 'format': 'PDF 1.7', 'title': '', 'author': '', 'subject': '', 'keywords': '', 'moddate': '', 'trapped': '', 'modDate': '', 'creationDate': \"D:20250114152537+05'30\", 'page': 0, 'start_index': 539}, page_content=\"how a simple character sequence, for example *, can have a lot of meaning to the shell.\\nThe process that makes this happen is called expansion. With expansion, we enter some-\\nthing and it is expanded into something else before the shell acts upon it. To demonstrate\\nwhat we mean by this, let's take a look at the echo command. echo is a shell builtin that\\nperforms a very simple task. It prints its text arguments on standard output.\\n[me@linuxbox ~]$ echo this is a test\\nthis is a test\"),\n",
       " Document(metadata={'producer': 'cairo 1.18.0 (https://cairographics.org)', 'creator': '', 'creationdate': '2025-01-14T15:25:37+05:30', 'source': '../data/pdf_file/output.pdf', 'file_path': '../data/pdf_file/output.pdf', 'total_pages': 8, 'format': 'PDF 1.7', 'title': '', 'author': '', 'subject': '', 'keywords': '', 'moddate': '', 'trapped': '', 'modDate': '', 'creationDate': \"D:20250114152537+05'30\", 'page': 0, 'start_index': 895}, page_content=\"performs a very simple task. It prints its text arguments on standard output.\\n[me@linuxbox ~]$ echo this is a test\\nthis is a test\\nThat's pretty straightforward. Any argument passed to echo gets displayed. Let's try an-\\nother example.\\n[me@linuxbox ~]$ echo *\\nDesktop Documents ls-output.txt Music Pictures Public Templates \\nVideos\\nSo what just happened? Why didn't echo print *? As we recall from our work with wild-\"),\n",
       " Document(metadata={'producer': 'cairo 1.18.0 (https://cairographics.org)', 'creator': '', 'creationdate': '2025-01-14T15:25:37+05:30', 'source': '../data/pdf_file/output.pdf', 'file_path': '../data/pdf_file/output.pdf', 'total_pages': 8, 'format': 'PDF 1.7', 'title': '', 'author': '', 'subject': '', 'keywords': '', 'moddate': '', 'trapped': '', 'modDate': '', 'creationDate': \"D:20250114152537+05'30\", 'page': 0, 'start_index': 1114}, page_content=\"other example.\\n[me@linuxbox ~]$ echo *\\nDesktop Documents ls-output.txt Music Pictures Public Templates \\nVideos\\nSo what just happened? Why didn't echo print *? As we recall from our work with wild-\\ncards, the * character means match any characters in a filename, but what we didn't see in\\nour original discussion was how the shell does that. The simple answer is that the shell\\nexpands the * into something else (in this instance, the names of the files in the current\"),\n",
       " Document(metadata={'producer': 'cairo 1.18.0 (https://cairographics.org)', 'creator': '', 'creationdate': '2025-01-14T15:25:37+05:30', 'source': '../data/pdf_file/output.pdf', 'file_path': '../data/pdf_file/output.pdf', 'total_pages': 8, 'format': 'PDF 1.7', 'title': '', 'author': '', 'subject': '', 'keywords': '', 'moddate': '', 'trapped': '', 'modDate': '', 'creationDate': \"D:20250114152537+05'30\", 'page': 0, 'start_index': 1402}, page_content='our original discussion was how the shell does that. The simple answer is that the shell\\nexpands the * into something else (in this instance, the names of the files in the current\\nworking directory) before the  echo command is executed. When the Enter key is\\n68'),\n",
       " Document(metadata={'producer': 'cairo 1.18.0 (https://cairographics.org)', 'creator': '', 'creationdate': '2025-01-14T15:25:37+05:30', 'source': '../data/pdf_file/output.pdf', 'file_path': '../data/pdf_file/output.pdf', 'total_pages': 8, 'format': 'PDF 1.7', 'title': '', 'author': '', 'subject': '', 'keywords': '', 'moddate': '', 'trapped': '', 'modDate': '', 'creationDate': \"D:20250114152537+05'30\", 'page': 1, 'start_index': 0}, page_content='Expansion\\npressed, the shell automatically expands any qualifying characters on the command line\\nbefore the command is carried out, so the echo command never saw the *, only its ex-\\npanded result. Knowing this, we can see that echo behaved as expected.\\nPathname Expansion\\nThe mechanism by which wildcards work is called pathname expansion. If we try some\\nof the techniques that we employed in earlier chapters, we will see that they are really ex-'),\n",
       " Document(metadata={'producer': 'cairo 1.18.0 (https://cairographics.org)', 'creator': '', 'creationdate': '2025-01-14T15:25:37+05:30', 'source': '../data/pdf_file/output.pdf', 'file_path': '../data/pdf_file/output.pdf', 'total_pages': 8, 'format': 'PDF 1.7', 'title': '', 'author': '', 'subject': '', 'keywords': '', 'moddate': '', 'trapped': '', 'modDate': '', 'creationDate': \"D:20250114152537+05'30\", 'page': 1, 'start_index': 253}, page_content='Pathname Expansion\\nThe mechanism by which wildcards work is called pathname expansion. If we try some\\nof the techniques that we employed in earlier chapters, we will see that they are really ex-\\npansions. Given a home directory that looks like this:\\n[me@linuxbox ~]$ ls\\nDesktop    ls-output.txt  Pictures  Templates\\nDocuments  Music          Public    Videos\\nwe could carry out the following expansions:\\n[me@linuxbox ~]$ echo D*\\nDesktop Documents\\nand this:\\n[me@linuxbox ~]$ echo *s'),\n",
       " Document(metadata={'producer': 'cairo 1.18.0 (https://cairographics.org)', 'creator': '', 'creationdate': '2025-01-14T15:25:37+05:30', 'source': '../data/pdf_file/output.pdf', 'file_path': '../data/pdf_file/output.pdf', 'total_pages': 8, 'format': 'PDF 1.7', 'title': '', 'author': '', 'subject': '', 'keywords': '', 'moddate': '', 'trapped': '', 'modDate': '', 'creationDate': \"D:20250114152537+05'30\", 'page': 1, 'start_index': 569}, page_content='Documents  Music          Public    Videos\\nwe could carry out the following expansions:\\n[me@linuxbox ~]$ echo D*\\nDesktop Documents\\nand this:\\n[me@linuxbox ~]$ echo *s\\nDocuments Pictures Templates Videos\\nor even this:\\n[me@linuxbox ~]$ echo [[:upper:]]*\\nDesktop Documents Music Pictures Public Templates Videos\\nand looking beyond our home directory, we could do this:\\n[me@linuxbox ~]$ echo /usr/*/share\\n/usr/kerberos/share /usr/local/share\\n69'),\n",
       " Document(metadata={'producer': 'cairo 1.18.0 (https://cairographics.org)', 'creator': '', 'creationdate': '2025-01-14T15:25:37+05:30', 'source': '../data/pdf_file/output.pdf', 'file_path': '../data/pdf_file/output.pdf', 'total_pages': 8, 'format': 'PDF 1.7', 'title': '', 'author': '', 'subject': '', 'keywords': '', 'moddate': '', 'trapped': '', 'modDate': '', 'creationDate': \"D:20250114152537+05'30\", 'page': 2, 'start_index': 0}, page_content='7 – Seeing the World as the Shell Sees It\\nPathname Expansion of Hidden Files\\nAs we know, filenames that begin with a period character are hidden. Pathname\\nexpansion also respects this behavior. An expansion such as the following does\\nnot reveal hidden files.\\necho *\\nIt might appear at first glance that we could include hidden files in an expansion\\nby starting the pattern with a leading period, like this:\\necho .*\\nIt almost works. However, if we examine the results closely, we will see that the'),\n",
       " Document(metadata={'producer': 'cairo 1.18.0 (https://cairographics.org)', 'creator': '', 'creationdate': '2025-01-14T15:25:37+05:30', 'source': '../data/pdf_file/output.pdf', 'file_path': '../data/pdf_file/output.pdf', 'total_pages': 8, 'format': 'PDF 1.7', 'title': '', 'author': '', 'subject': '', 'keywords': '', 'moddate': '', 'trapped': '', 'modDate': '', 'creationDate': \"D:20250114152537+05'30\", 'page': 2, 'start_index': 349}, page_content='by starting the pattern with a leading period, like this:\\necho .*\\nIt almost works. However, if we examine the results closely, we will see that the\\nnames . and .. will also appear in the results. Because these names refer to the\\ncurrent working directory and its parent directory, using this pattern will likely\\nproduce an incorrect result. We can see this if we try the following command:\\nls -d .* | less\\nTo better perform pathname expansion in this situation, we have to employ a'),\n",
       " Document(metadata={'producer': 'cairo 1.18.0 (https://cairographics.org)', 'creator': '', 'creationdate': '2025-01-14T15:25:37+05:30', 'source': '../data/pdf_file/output.pdf', 'file_path': '../data/pdf_file/output.pdf', 'total_pages': 8, 'format': 'PDF 1.7', 'title': '', 'author': '', 'subject': '', 'keywords': '', 'moddate': '', 'trapped': '', 'modDate': '', 'creationDate': \"D:20250114152537+05'30\", 'page': 2, 'start_index': 661}, page_content=\"produce an incorrect result. We can see this if we try the following command:\\nls -d .* | less\\nTo better perform pathname expansion in this situation, we have to employ a\\nmore specific pattern.\\necho .[!.]*\\nThis pattern expands into every filename that begins with only one period fol-\\nlowed by any other characters. This will work correctly with most hidden files\\n(though it still won't include filenames with multiple leading periods). The ls\"),\n",
       " Document(metadata={'producer': 'cairo 1.18.0 (https://cairographics.org)', 'creator': '', 'creationdate': '2025-01-14T15:25:37+05:30', 'source': '../data/pdf_file/output.pdf', 'file_path': '../data/pdf_file/output.pdf', 'total_pages': 8, 'format': 'PDF 1.7', 'title': '', 'author': '', 'subject': '', 'keywords': '', 'moddate': '', 'trapped': '', 'modDate': '', 'creationDate': \"D:20250114152537+05'30\", 'page': 2, 'start_index': 945}, page_content=\"lowed by any other characters. This will work correctly with most hidden files\\n(though it still won't include filenames with multiple leading periods). The ls\\ncommand with the -A option (“almost all”) will provide a correct listing of hid-\\nden files.\\nls -A\\nTilde Expansion\\nAs we may recall from our introduction to the cd command, the tilde character (~) has a\\nspecial meaning. When used at the beginning of a word, it expands into the name of the\"),\n",
       " Document(metadata={'producer': 'cairo 1.18.0 (https://cairographics.org)', 'creator': '', 'creationdate': '2025-01-14T15:25:37+05:30', 'source': '../data/pdf_file/output.pdf', 'file_path': '../data/pdf_file/output.pdf', 'total_pages': 8, 'format': 'PDF 1.7', 'title': '', 'author': '', 'subject': '', 'keywords': '', 'moddate': '', 'trapped': '', 'modDate': '', 'creationDate': \"D:20250114152537+05'30\", 'page': 2, 'start_index': 1196}, page_content='ls -A\\nTilde Expansion\\nAs we may recall from our introduction to the cd command, the tilde character (~) has a\\nspecial meaning. When used at the beginning of a word, it expands into the name of the\\nhome directory of the named user or, if no user is named, the home directory of the cur-\\nrent user.\\n[me@linuxbox ~]$ echo ~\\n/home/me\\nIf user “foo” has an account, then it expands into this:\\n70'),\n",
       " Document(metadata={'producer': 'cairo 1.18.0 (https://cairographics.org)', 'creator': '', 'creationdate': '2025-01-14T15:25:37+05:30', 'source': '../data/pdf_file/output.pdf', 'file_path': '../data/pdf_file/output.pdf', 'total_pages': 8, 'format': 'PDF 1.7', 'title': '', 'author': '', 'subject': '', 'keywords': '', 'moddate': '', 'trapped': '', 'modDate': '', 'creationDate': \"D:20250114152537+05'30\", 'page': 3, 'start_index': 0}, page_content='Expansion\\n[me@linuxbox ~]$ echo ~foo\\n/home/foo\\nArithmetic Expansion\\nThe shell allows arithmetic to be performed by expansion. This allows us to use the shell\\nprompt as a calculator.\\n[me@linuxbox ~]$ echo $((2 + 2))\\n4\\nArithmetic expansion uses the following form:\\n$((expression))\\nwhere expression is an arithmetic expression consisting of values and arithmetic opera-\\ntors.\\nArithmetic expansion supports only integers (whole numbers, no decimals) but can per-'),\n",
       " Document(metadata={'producer': 'cairo 1.18.0 (https://cairographics.org)', 'creator': '', 'creationdate': '2025-01-14T15:25:37+05:30', 'source': '../data/pdf_file/output.pdf', 'file_path': '../data/pdf_file/output.pdf', 'total_pages': 8, 'format': 'PDF 1.7', 'title': '', 'author': '', 'subject': '', 'keywords': '', 'moddate': '', 'trapped': '', 'modDate': '', 'creationDate': \"D:20250114152537+05'30\", 'page': 3, 'start_index': 263}, page_content='$((expression))\\nwhere expression is an arithmetic expression consisting of values and arithmetic opera-\\ntors.\\nArithmetic expansion supports only integers (whole numbers, no decimals) but can per-\\nform quite a number of different operations. Table 7-1 describes a few of the supported\\noperators.\\nTable 7-1: Arithmetic Operators\\nOperator\\nDescription\\n+\\nAddition\\n-\\nSubtraction\\n*\\nMultiplication\\n/\\nDivision (but remember, since expansion supports only integer \\narithmetic, results are integers).\\n%'),\n",
       " Document(metadata={'producer': 'cairo 1.18.0 (https://cairographics.org)', 'creator': '', 'creationdate': '2025-01-14T15:25:37+05:30', 'source': '../data/pdf_file/output.pdf', 'file_path': '../data/pdf_file/output.pdf', 'total_pages': 8, 'format': 'PDF 1.7', 'title': '', 'author': '', 'subject': '', 'keywords': '', 'moddate': '', 'trapped': '', 'modDate': '', 'creationDate': \"D:20250114152537+05'30\", 'page': 3, 'start_index': 558}, page_content='Table 7-1: Arithmetic Operators\\nOperator\\nDescription\\n+\\nAddition\\n-\\nSubtraction\\n*\\nMultiplication\\n/\\nDivision (but remember, since expansion supports only integer \\narithmetic, results are integers).\\n%\\nModulo, which simply means “remainder.”\\n**\\nExponentiation\\nSpaces are not significant in arithmetic expressions and expressions may be nested. For\\nexample, to multiply 5 squared by 3, we can use this:\\n[me@linuxbox ~]$ echo $(($((5**2)) * 3))\\n71'),\n",
       " Document(metadata={'producer': 'cairo 1.18.0 (https://cairographics.org)', 'creator': '', 'creationdate': '2025-01-14T15:25:37+05:30', 'source': '../data/pdf_file/output.pdf', 'file_path': '../data/pdf_file/output.pdf', 'total_pages': 8, 'format': 'PDF 1.7', 'title': '', 'author': '', 'subject': '', 'keywords': '', 'moddate': '', 'trapped': '', 'modDate': '', 'creationDate': \"D:20250114152537+05'30\", 'page': 4, 'start_index': 0}, page_content='7 – Seeing the World as the Shell Sees It\\n75\\nSingle parentheses may be used to group multiple subexpressions. With this technique,\\nwe can rewrite the previous example and get the same result using a single expansion in-\\nstead of two.\\n[me@linuxbox ~]$ echo $(((5**2) * 3))\\n75\\nHere is an example using the division and remainder operators. Notice the effect of inte-\\nger division.\\n[me@linuxbox ~]$ echo Five divided by two equals $((5/2))\\nFive divided by two equals 2'),\n",
       " Document(metadata={'producer': 'cairo 1.18.0 (https://cairographics.org)', 'creator': '', 'creationdate': '2025-01-14T15:25:37+05:30', 'source': '../data/pdf_file/output.pdf', 'file_path': '../data/pdf_file/output.pdf', 'total_pages': 8, 'format': 'PDF 1.7', 'title': '', 'author': '', 'subject': '', 'keywords': '', 'moddate': '', 'trapped': '', 'modDate': '', 'creationDate': \"D:20250114152537+05'30\", 'page': 4, 'start_index': 272}, page_content=\"75\\nHere is an example using the division and remainder operators. Notice the effect of inte-\\nger division.\\n[me@linuxbox ~]$ echo Five divided by two equals $((5/2))\\nFive divided by two equals 2\\n[me@linuxbox ~]$ echo with $((5%2)) left over.\\nwith 1 left over.\\nArithmetic expansion is covered in greater detail in Chapter 34.\\nBrace Expansion\\nPerhaps the strangest expansion is called brace expansion. With it, we can create multiple\\ntext strings from a pattern containing braces. Here's an example:\"),\n",
       " Document(metadata={'producer': 'cairo 1.18.0 (https://cairographics.org)', 'creator': '', 'creationdate': '2025-01-14T15:25:37+05:30', 'source': '../data/pdf_file/output.pdf', 'file_path': '../data/pdf_file/output.pdf', 'total_pages': 8, 'format': 'PDF 1.7', 'title': '', 'author': '', 'subject': '', 'keywords': '', 'moddate': '', 'trapped': '', 'modDate': '', 'creationDate': \"D:20250114152537+05'30\", 'page': 4, 'start_index': 596}, page_content=\"Brace Expansion\\nPerhaps the strangest expansion is called brace expansion. With it, we can create multiple\\ntext strings from a pattern containing braces. Here's an example:\\n[me@linuxbox ~]$ echo Front-{A,B,C}-Back\\nFront-A-Back Front-B-Back Front-C-Back\\nPatterns to be brace expanded may contain a leading portion called a  preamble and a\\ntrailing portion called a  postscript. The brace expression itself may contain either a\"),\n",
       " Document(metadata={'producer': 'cairo 1.18.0 (https://cairographics.org)', 'creator': '', 'creationdate': '2025-01-14T15:25:37+05:30', 'source': '../data/pdf_file/output.pdf', 'file_path': '../data/pdf_file/output.pdf', 'total_pages': 8, 'format': 'PDF 1.7', 'title': '', 'author': '', 'subject': '', 'keywords': '', 'moddate': '', 'trapped': '', 'modDate': '', 'creationDate': \"D:20250114152537+05'30\", 'page': 4, 'start_index': 849}, page_content='Patterns to be brace expanded may contain a leading portion called a  preamble and a\\ntrailing portion called a  postscript. The brace expression itself may contain either a\\ncomma-separated list of strings or a range of integers or single characters. The pattern\\nmay not contain unquoted whitespace. Here is an example using a range of integers:\\n[me@linuxbox ~]$ echo Number_{1..5}\\nNumber_1 Number_2 Number_3 Number_4 Number_5\\nIn bash version 4.0 and newer, integers may also be zero-padded like so:'),\n",
       " Document(metadata={'producer': 'cairo 1.18.0 (https://cairographics.org)', 'creator': '', 'creationdate': '2025-01-14T15:25:37+05:30', 'source': '../data/pdf_file/output.pdf', 'file_path': '../data/pdf_file/output.pdf', 'total_pages': 8, 'format': 'PDF 1.7', 'title': '', 'author': '', 'subject': '', 'keywords': '', 'moddate': '', 'trapped': '', 'modDate': '', 'creationDate': \"D:20250114152537+05'30\", 'page': 4, 'start_index': 1194}, page_content='[me@linuxbox ~]$ echo Number_{1..5}\\nNumber_1 Number_2 Number_3 Number_4 Number_5\\nIn bash version 4.0 and newer, integers may also be zero-padded like so:\\n72'),\n",
       " Document(metadata={'producer': 'cairo 1.18.0 (https://cairographics.org)', 'creator': '', 'creationdate': '2025-01-14T15:25:37+05:30', 'source': '../data/pdf_file/output.pdf', 'file_path': '../data/pdf_file/output.pdf', 'total_pages': 8, 'format': 'PDF 1.7', 'title': '', 'author': '', 'subject': '', 'keywords': '', 'moddate': '', 'trapped': '', 'modDate': '', 'creationDate': \"D:20250114152537+05'30\", 'page': 5, 'start_index': 0}, page_content='Expansion\\n[me@linuxbox ~]$ echo {01..15}\\n01 02 03 04 05 06 07 08 09 10 11 12 13 14 15\\n[me@linuxbox ~]$ echo {001..15}\\n001 002 003 004 005 006 007 008 009 010 011 012 013 014 015\\nHere is a range of letters in reverse order:\\n[me@linuxbox ~]$ echo {Z..A}\\nZ Y X W V U T S R Q P O N M L K J I H G F E D C B A\\nBrace expansions may be nested.\\n[me@linuxbox ~]$ echo a{A{1,2},B{3,4}}b\\naA1b aA2b aB3b aB4b\\nSo, what is this good for? The most common application is to make lists of files or direc-'),\n",
       " Document(metadata={'producer': 'cairo 1.18.0 (https://cairographics.org)', 'creator': '', 'creationdate': '2025-01-14T15:25:37+05:30', 'source': '../data/pdf_file/output.pdf', 'file_path': '../data/pdf_file/output.pdf', 'total_pages': 8, 'format': 'PDF 1.7', 'title': '', 'author': '', 'subject': '', 'keywords': '', 'moddate': '', 'trapped': '', 'modDate': '', 'creationDate': \"D:20250114152537+05'30\", 'page': 5, 'start_index': 304}, page_content='Brace expansions may be nested.\\n[me@linuxbox ~]$ echo a{A{1,2},B{3,4}}b\\naA1b aA2b aB3b aB4b\\nSo, what is this good for? The most common application is to make lists of files or direc-\\ntories to be created. For example, if we were photographers and had a large collection of\\nimages that we wanted to organize into years and months, the first thing we might do is\\ncreate a series of directories named in numeric “Year-Month” format. This way, the direc-'),\n",
       " Document(metadata={'producer': 'cairo 1.18.0 (https://cairographics.org)', 'creator': '', 'creationdate': '2025-01-14T15:25:37+05:30', 'source': '../data/pdf_file/output.pdf', 'file_path': '../data/pdf_file/output.pdf', 'total_pages': 8, 'format': 'PDF 1.7', 'title': '', 'author': '', 'subject': '', 'keywords': '', 'moddate': '', 'trapped': '', 'modDate': '', 'creationDate': \"D:20250114152537+05'30\", 'page': 5, 'start_index': 577}, page_content=\"images that we wanted to organize into years and months, the first thing we might do is\\ncreate a series of directories named in numeric “Year-Month” format. This way, the direc-\\ntory names would sort in chronological order. We could type out a complete list of direc-\\ntories, but that's a lot of work and it's error-prone. Instead, we could do this:\\n[me@linuxbox ~]$ mkdir Photos\\n[me@linuxbox ~]$ cd Photos\\n[me@linuxbox Photos]$ mkdir {2007..2009}-{01..12}\\n[me@linuxbox Photos]$ ls\"),\n",
       " Document(metadata={'producer': 'cairo 1.18.0 (https://cairographics.org)', 'creator': '', 'creationdate': '2025-01-14T15:25:37+05:30', 'source': '../data/pdf_file/output.pdf', 'file_path': '../data/pdf_file/output.pdf', 'total_pages': 8, 'format': 'PDF 1.7', 'title': '', 'author': '', 'subject': '', 'keywords': '', 'moddate': '', 'trapped': '', 'modDate': '', 'creationDate': \"D:20250114152537+05'30\", 'page': 5, 'start_index': 927}, page_content='[me@linuxbox ~]$ mkdir Photos\\n[me@linuxbox ~]$ cd Photos\\n[me@linuxbox Photos]$ mkdir {2007..2009}-{01..12}\\n[me@linuxbox Photos]$ ls\\n2007-01  2007-07  2008-01  2008-07  2009-01  2009-07\\n2007-02  2007-08  2008-02  2008-08  2009-02  2009-08\\n2007-03  2007-09  2008-03  2008-09  2009-03  2009-09\\n2007-04  2007-10  2008-04  2008-10  2009-04  2009-10\\n2007-05  2007-11  2008-05  2008-11  2009-05  2009-11\\n2007-06  2007-12  2008-06  2008-12  2009-06  2009-12\\nPretty slick!\\nParameter Expansion'),\n",
       " Document(metadata={'producer': 'cairo 1.18.0 (https://cairographics.org)', 'creator': '', 'creationdate': '2025-01-14T15:25:37+05:30', 'source': '../data/pdf_file/output.pdf', 'file_path': '../data/pdf_file/output.pdf', 'total_pages': 8, 'format': 'PDF 1.7', 'title': '', 'author': '', 'subject': '', 'keywords': '', 'moddate': '', 'trapped': '', 'modDate': '', 'creationDate': \"D:20250114152537+05'30\", 'page': 5, 'start_index': 1218}, page_content=\"2007-04  2007-10  2008-04  2008-10  2009-04  2009-10\\n2007-05  2007-11  2008-05  2008-11  2009-05  2009-11\\n2007-06  2007-12  2008-06  2008-12  2009-06  2009-12\\nPretty slick!\\nParameter Expansion\\nWe're going to touch only briefly on parameter expansion in this chapter, but we'll be\\ncovering it extensively later. It's a feature that is more useful in shell scripts than directly\\n73\"),\n",
       " Document(metadata={'producer': 'cairo 1.18.0 (https://cairographics.org)', 'creator': '', 'creationdate': '2025-01-14T15:25:37+05:30', 'source': '../data/pdf_file/output.pdf', 'file_path': '../data/pdf_file/output.pdf', 'total_pages': 8, 'format': 'PDF 1.7', 'title': '', 'author': '', 'subject': '', 'keywords': '', 'moddate': '', 'trapped': '', 'modDate': '', 'creationDate': \"D:20250114152537+05'30\", 'page': 6, 'start_index': 0}, page_content=\"7 – Seeing the World as the Shell Sees It\\non the command line. Many of its capabilities have to do with the system's ability to store\\nsmall chunks of data and to give each chunk a name. Many such chunks, more properly\\ncalled  variables, are available for our examination. For example, the variable named\\nUSER contains our username. To invoke parameter expansion and reveal the contents of\\nUSER we would do this:\\n[me@linuxbox ~]$ echo $USER\\nme\\nTo see a list of available variables, try this:\"),\n",
       " Document(metadata={'producer': 'cairo 1.18.0 (https://cairographics.org)', 'creator': '', 'creationdate': '2025-01-14T15:25:37+05:30', 'source': '../data/pdf_file/output.pdf', 'file_path': '../data/pdf_file/output.pdf', 'total_pages': 8, 'format': 'PDF 1.7', 'title': '', 'author': '', 'subject': '', 'keywords': '', 'moddate': '', 'trapped': '', 'modDate': '', 'creationDate': \"D:20250114152537+05'30\", 'page': 6, 'start_index': 304}, page_content='USER contains our username. To invoke parameter expansion and reveal the contents of\\nUSER we would do this:\\n[me@linuxbox ~]$ echo $USER\\nme\\nTo see a list of available variables, try this:\\n[me@linuxbox ~]$ printenv | less\\nYou may have noticed that with other types of expansion, if we mistype a pattern, the ex-\\npansion will not take place, and the echo command will simply display the mistyped\\npattern. With parameter expansion, if we misspell the name of a variable, the expansion'),\n",
       " Document(metadata={'producer': 'cairo 1.18.0 (https://cairographics.org)', 'creator': '', 'creationdate': '2025-01-14T15:25:37+05:30', 'source': '../data/pdf_file/output.pdf', 'file_path': '../data/pdf_file/output.pdf', 'total_pages': 8, 'format': 'PDF 1.7', 'title': '', 'author': '', 'subject': '', 'keywords': '', 'moddate': '', 'trapped': '', 'modDate': '', 'creationDate': \"D:20250114152537+05'30\", 'page': 6, 'start_index': 614}, page_content='pansion will not take place, and the echo command will simply display the mistyped\\npattern. With parameter expansion, if we misspell the name of a variable, the expansion\\nwill still take place but will result in an empty string:\\n[me@linuxbox ~]$ echo $SUER\\n[me@linuxbox ~]$ \\nCommand Substitution\\nCommand substitution allows us to use the output of a command as an expansion.\\n[me@linuxbox ~]$ echo $(ls)\\nDesktop Documents ls-output.txt Music Pictures Public Templates \\nVideos'),\n",
       " Document(metadata={'producer': 'cairo 1.18.0 (https://cairographics.org)', 'creator': '', 'creationdate': '2025-01-14T15:25:37+05:30', 'source': '../data/pdf_file/output.pdf', 'file_path': '../data/pdf_file/output.pdf', 'total_pages': 8, 'format': 'PDF 1.7', 'title': '', 'author': '', 'subject': '', 'keywords': '', 'moddate': '', 'trapped': '', 'modDate': '', 'creationDate': \"D:20250114152537+05'30\", 'page': 6, 'start_index': 889}, page_content='Command Substitution\\nCommand substitution allows us to use the output of a command as an expansion.\\n[me@linuxbox ~]$ echo $(ls)\\nDesktop Documents ls-output.txt Music Pictures Public Templates \\nVideos\\nOne of my favorites goes something like this:\\n[me@linuxbox ~]$ ls -l $(which cp)\\n-rwxr-xr-x 1 root root 71516 2007-12-05 08:58 /bin/cp\\nHere we passed the results of which cp as an argument to the ls command, thereby\\n74'),\n",
       " Document(metadata={'producer': 'cairo 1.18.0 (https://cairographics.org)', 'creator': '', 'creationdate': '2025-01-14T15:25:37+05:30', 'source': '../data/pdf_file/output.pdf', 'file_path': '../data/pdf_file/output.pdf', 'total_pages': 8, 'format': 'PDF 1.7', 'title': '', 'author': '', 'subject': '', 'keywords': '', 'moddate': '', 'trapped': '', 'modDate': '', 'creationDate': \"D:20250114152537+05'30\", 'page': 7, 'start_index': 0}, page_content=\"Expansion\\ngetting the listing of the cp program without having to know its full pathname. We are\\nnot limited to just simple commands. Entire pipelines can be used (only partial output is\\nshown here):\\n[me@linuxbox ~]$ file $(ls -d /usr/bin/* | grep zip)\\n/usr/bin/bunzip2:      symbolic link to `bzip2'\\n/usr/bin/bzip2:        ELF 32-bit LSB executable, Intel 80386, \\nversion 1 (SYSV), dynamically linked (uses shared libs), for \\nGNU/Linux 2.6.9, stripped\"),\n",
       " Document(metadata={'producer': 'cairo 1.18.0 (https://cairographics.org)', 'creator': '', 'creationdate': '2025-01-14T15:25:37+05:30', 'source': '../data/pdf_file/output.pdf', 'file_path': '../data/pdf_file/output.pdf', 'total_pages': 8, 'format': 'PDF 1.7', 'title': '', 'author': '', 'subject': '', 'keywords': '', 'moddate': '', 'trapped': '', 'modDate': '', 'creationDate': \"D:20250114152537+05'30\", 'page': 7, 'start_index': 253}, page_content=\"/usr/bin/bunzip2:      symbolic link to `bzip2'\\n/usr/bin/bzip2:        ELF 32-bit LSB executable, Intel 80386, \\nversion 1 (SYSV), dynamically linked (uses shared libs), for \\nGNU/Linux 2.6.9, stripped\\n/usr/bin/bzip2recover: ELF 32-bit LSB executable, Intel 80386, \\nversion 1 (SYSV), dynamically linked (uses shared libs), for \\nGNU/Linux 2.6.9, stripped\\n/usr/bin/funzip:       ELF 32-bit LSB executable, Intel 80386, \\nversion 1 (SYSV), dynamically linked (uses shared libs), for\"),\n",
       " Document(metadata={'producer': 'cairo 1.18.0 (https://cairographics.org)', 'creator': '', 'creationdate': '2025-01-14T15:25:37+05:30', 'source': '../data/pdf_file/output.pdf', 'file_path': '../data/pdf_file/output.pdf', 'total_pages': 8, 'format': 'PDF 1.7', 'title': '', 'author': '', 'subject': '', 'keywords': '', 'moddate': '', 'trapped': '', 'modDate': '', 'creationDate': \"D:20250114152537+05'30\", 'page': 7, 'start_index': 579}, page_content=\"GNU/Linux 2.6.9, stripped\\n/usr/bin/funzip:       ELF 32-bit LSB executable, Intel 80386, \\nversion 1 (SYSV), dynamically linked (uses shared libs), for \\nGNU/Linux 2.6.9, stripped\\n/usr/bin/gpg-zip:      Bourne shell script text executable\\n/usr/bin/gunzip:       symbolic link to `../../bin/gunzip'\\n/usr/bin/gzip:         symbolic link to `../../bin/gzip'\\n/usr/bin/mzip:         symbolic link to `mtools'\\nIn this example, the results of the pipeline became the argument list of the file com-\\nmand.\"),\n",
       " Document(metadata={'producer': 'cairo 1.18.0 (https://cairographics.org)', 'creator': '', 'creationdate': '2025-01-14T15:25:37+05:30', 'source': '../data/pdf_file/output.pdf', 'file_path': '../data/pdf_file/output.pdf', 'total_pages': 8, 'format': 'PDF 1.7', 'title': '', 'author': '', 'subject': '', 'keywords': '', 'moddate': '', 'trapped': '', 'modDate': '', 'creationDate': \"D:20250114152537+05'30\", 'page': 7, 'start_index': 875}, page_content=\"/usr/bin/gzip:         symbolic link to `../../bin/gzip'\\n/usr/bin/mzip:         symbolic link to `mtools'\\nIn this example, the results of the pipeline became the argument list of the file com-\\nmand.\\nThere is an alternate syntax for command substitution in older shell programs that is also\\nsupported in bash. It uses backquotes instead of the dollar sign and parentheses.\\n[me@linuxbox ~]$ ls -l `which cp`\\n-rwxr-xr-x 1 root root 71516 2007-12-05 08:58 /bin/cp\\nQuoting\"),\n",
       " Document(metadata={'producer': 'cairo 1.18.0 (https://cairographics.org)', 'creator': '', 'creationdate': '2025-01-14T15:25:37+05:30', 'source': '../data/pdf_file/output.pdf', 'file_path': '../data/pdf_file/output.pdf', 'total_pages': 8, 'format': 'PDF 1.7', 'title': '', 'author': '', 'subject': '', 'keywords': '', 'moddate': '', 'trapped': '', 'modDate': '', 'creationDate': \"D:20250114152537+05'30\", 'page': 7, 'start_index': 1165}, page_content=\"supported in bash. It uses backquotes instead of the dollar sign and parentheses.\\n[me@linuxbox ~]$ ls -l `which cp`\\n-rwxr-xr-x 1 root root 71516 2007-12-05 08:58 /bin/cp\\nQuoting\\nNow that we've seen how many ways the shell can perform expansions, it's time to learn\\nhow we can control it. Take for example the following:\\n[me@linuxbox ~]$ echo this is a     test\\nthis is a test\\nor this one:\\n75\"),\n",
       " Document(metadata={'producer': 'iText® 5.5.6 ©2000-2015 iText Group NV (AGPL-version)', 'creator': '', 'creationdate': '2023-07-14T12:32:41+05:30', 'source': '../data/pdf_file/laptopinvoice.pdf', 'file_path': '../data/pdf_file/laptopinvoice.pdf', 'total_pages': 1, 'format': 'PDF 1.4', 'title': '', 'author': '', 'subject': '', 'keywords': '', 'moddate': '2023-07-14T12:32:41+05:30', 'trapped': '', 'modDate': \"D:20230714123241+05'30'\", 'creationDate': \"D:20230714123241+05'30'\", 'page': 0, 'start_index': 0}, page_content='E. & O.E.\\npage 1 of 1\\n*Keep this invoice and \\nmanufacturer box for \\nwarranty purposes.\\nShip To\\nSantosh Kumar \\nPlot no74 sawastik enclev, Janpath \\nroad fulsunga.\\nRudrapur 263153 Uttarakhand \\nPhone: xxxxxxxxxx \\nBill To\\nSantosh Kumar \\nPlot no74 sawastik enclev, Janpath \\nroad fulsunga.\\nRudrapur 263153 Uttarakhand \\nPhone: xxxxxxxxxx \\nOrder ID: OD126318642060163000\\n 21-10-2022\\nOrder Date:\\n 22-10-2022\\nInvoice Date:\\n AAFCI2112P\\nPAN:\\n U51900DL2019PTC347263\\nCIN:\\nInvoice Number # FAFO7V2300034840'),\n",
       " Document(metadata={'producer': 'iText® 5.5.6 ©2000-2015 iText Group NV (AGPL-version)', 'creator': '', 'creationdate': '2023-07-14T12:32:41+05:30', 'source': '../data/pdf_file/laptopinvoice.pdf', 'file_path': '../data/pdf_file/laptopinvoice.pdf', 'total_pages': 1, 'format': 'PDF 1.4', 'title': '', 'author': '', 'subject': '', 'keywords': '', 'moddate': '2023-07-14T12:32:41+05:30', 'trapped': '', 'modDate': \"D:20230714123241+05'30'\", 'creationDate': \"D:20230714123241+05'30'\", 'page': 0, 'start_index': 312}, page_content='Phone: xxxxxxxxxx \\nOrder ID: OD126318642060163000\\n 21-10-2022\\nOrder Date:\\n 22-10-2022\\nInvoice Date:\\n AAFCI2112P\\nPAN:\\n U51900DL2019PTC347263\\nCIN:\\nInvoice Number # FAFO7V2300034840\\nTax Invoice\\nSold By: \\n \\nIndospirit Private Limited ,\\nShip-from Address: Warehouse Building Nos. WE-II, Renaissance IntegratedIndustrial Area, Village Vashere, Bhiwandi , Thane , Mumbai ,\\nMaharashtra -421302, Bhiwandi, MAHARASHTRA, India - 421302, IN-MH\\nGSTIN - 27AAFCI2112P1ZH\\nTotal items: 1\\nProduct\\nTitle\\nQty\\nGross'),\n",
       " Document(metadata={'producer': 'iText® 5.5.6 ©2000-2015 iText Group NV (AGPL-version)', 'creator': '', 'creationdate': '2023-07-14T12:32:41+05:30', 'source': '../data/pdf_file/laptopinvoice.pdf', 'file_path': '../data/pdf_file/laptopinvoice.pdf', 'total_pages': 1, 'format': 'PDF 1.4', 'title': '', 'author': '', 'subject': '', 'keywords': '', 'moddate': '2023-07-14T12:32:41+05:30', 'trapped': '', 'modDate': \"D:20230714123241+05'30'\", 'creationDate': \"D:20230714123241+05'30'\", 'page': 0, 'start_index': 678}, page_content='Maharashtra -421302, Bhiwandi, MAHARASHTRA, India - 421302, IN-MH\\nGSTIN - 27AAFCI2112P1ZH\\nTotal items: 1\\nProduct\\nTitle\\nQty\\nGross\\nAmount ₹\\nDiscounts\\n/Coupons ₹\\nTaxable\\nValue ₹\\nIGST ₹\\nTotal ₹\\nLaptops\\nFSN: \\nCOMG36KGCDP4HHVT\\nHSN/SAC: 84713010\\nDELL Vostro Core i3 10th \\nGen - (8 GB/512 GB SSD\\n/Windows 10) Vostro 3401 \\nThin and Light Laptop\\nWarranty: 1 Year Onsite Warranty\\n1. [IMEI/Serial No: \\n ]\\n1NBSYH3\\n 18.0 %\\nIGST:\\n1\\n35990.00\\n-2500.00\\n28381.36\\n5108.64\\n33490.00\\nShipping And Handling Charges\\n1\\n40.00'),\n",
       " Document(metadata={'producer': 'iText® 5.5.6 ©2000-2015 iText Group NV (AGPL-version)', 'creator': '', 'creationdate': '2023-07-14T12:32:41+05:30', 'source': '../data/pdf_file/laptopinvoice.pdf', 'file_path': '../data/pdf_file/laptopinvoice.pdf', 'total_pages': 1, 'format': 'PDF 1.4', 'title': '', 'author': '', 'subject': '', 'keywords': '', 'moddate': '2023-07-14T12:32:41+05:30', 'trapped': '', 'modDate': \"D:20230714123241+05'30'\", 'creationDate': \"D:20230714123241+05'30'\", 'page': 0, 'start_index': 992}, page_content='Thin and Light Laptop\\nWarranty: 1 Year Onsite Warranty\\n1. [IMEI/Serial No: \\n ]\\n1NBSYH3\\n 18.0 %\\nIGST:\\n1\\n35990.00\\n-2500.00\\n28381.36\\n5108.64\\n33490.00\\nShipping And Handling Charges\\n1\\n40.00\\n-40.00\\n0.00\\n0.00\\n0.00\\nTotal\\n1\\n36030.00\\n-2540.00\\n28381.36\\n5108.64\\n33490.00\\nGrand Total\\n₹ 33490.00\\nIndospirit Private Limited\\nSignature\\nAuthorized Signatory\\n: At Flipkart we try to deliver perfectly each and every time. But in the off-chance that you need to return the item, please do so with the \\nReturns Policy'),\n",
       " Document(metadata={'producer': 'iText® 5.5.6 ©2000-2015 iText Group NV (AGPL-version)', 'creator': '', 'creationdate': '2023-07-14T12:32:41+05:30', 'source': '../data/pdf_file/laptopinvoice.pdf', 'file_path': '../data/pdf_file/laptopinvoice.pdf', 'total_pages': 1, 'format': 'PDF 1.4', 'title': '', 'author': '', 'subject': '', 'keywords': '', 'moddate': '2023-07-14T12:32:41+05:30', 'trapped': '', 'modDate': \"D:20230714123241+05'30'\", 'creationDate': \"D:20230714123241+05'30'\", 'page': 0, 'start_index': 1301}, page_content='Signature\\nAuthorized Signatory\\n: At Flipkart we try to deliver perfectly each and every time. But in the off-chance that you need to return the item, please do so with the \\nReturns Policy\\noriginal Brand box/price \\n without which it will be really difficult for us to act on your request. Please help us in helping you. Terms and conditions apply.\\ntag, original packing and invoice\\nThe goods sold as are intended for end user consumption and not for re-sale.\\nRegd. office:'),\n",
       " Document(metadata={'producer': 'iText® 5.5.6 ©2000-2015 iText Group NV (AGPL-version)', 'creator': '', 'creationdate': '2023-07-14T12:32:41+05:30', 'source': '../data/pdf_file/laptopinvoice.pdf', 'file_path': '../data/pdf_file/laptopinvoice.pdf', 'total_pages': 1, 'format': 'PDF 1.4', 'title': '', 'author': '', 'subject': '', 'keywords': '', 'moddate': '2023-07-14T12:32:41+05:30', 'trapped': '', 'modDate': \"D:20230714123241+05'30'\", 'creationDate': \"D:20230714123241+05'30'\", 'page': 0, 'start_index': 1648}, page_content='tag, original packing and invoice\\nThe goods sold as are intended for end user consumption and not for re-sale.\\nRegd. office: \\n , INDOSPIRIT PRIVATE LIMITED, Near Police Station, OKHLA PHASE-1, Delhi - 110020\\nIndospirit Private Limited\\nContact Flipkart: 1800 208 9898 || www.flipkart.com/helpcentre')]"
      ]
     },
     "execution_count": 20,
     "metadata": {},
     "output_type": "execute_result"
    }
   ],
   "source": [
    "all_splits"
   ]
  },
  {
   "cell_type": "code",
   "execution_count": null,
   "id": "638d9aad",
   "metadata": {},
   "outputs": [],
   "source": []
  }
 ],
 "metadata": {
  "kernelspec": {
   "display_name": "venv",
   "language": "python",
   "name": "python3"
  },
  "language_info": {
   "codemirror_mode": {
    "name": "ipython",
    "version": 3
   },
   "file_extension": ".py",
   "mimetype": "text/x-python",
   "name": "python",
   "nbconvert_exporter": "python",
   "pygments_lexer": "ipython3",
   "version": "3.12.3"
  }
 },
 "nbformat": 4,
 "nbformat_minor": 5
}
