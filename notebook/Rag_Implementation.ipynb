{
 "cells": [
  {
   "cell_type": "markdown",
   "id": "428b01c3",
   "metadata": {},
   "source": [
    "# Indexing"
   ]
  },
  {
   "cell_type": "markdown",
   "id": "d7eefe1e",
   "metadata": {},
   "source": [
    "###  Data load"
   ]
  },
  {
   "cell_type": "code",
   "execution_count": 1,
   "id": "8ce8006f",
   "metadata": {},
   "outputs": [
    {
     "name": "stdout",
     "output_type": "stream",
     "text": [
      "9\n"
     ]
    }
   ],
   "source": [
    "from langchain_community.document_loaders import PyPDFLoader,PyMuPDFLoader,DirectoryLoader\n",
    "\n",
    "dirload  = DirectoryLoader(\n",
    "    path='../data/pdf_file/',\n",
    "    glob='**/*.pdf',\n",
    "    loader_cls=PyMuPDFLoader\n",
    ")\n",
    "dir_docs = dirload.load()\n",
    "print(len(dir_docs))"
   ]
  },
  {
   "cell_type": "markdown",
   "id": "3490ecc7",
   "metadata": {},
   "source": [
    "### data splitting"
   ]
  },
  {
   "cell_type": "code",
   "execution_count": 2,
   "metadata": {},
   "outputs": [
    {
     "name": "stdout",
     "output_type": "stream",
     "text": [
      "Split blog post into 42 sub-documents.\n"
     ]
    }
   ],
   "source": [
    "# splitting from langchain_text_splitters \n",
    "from langchain_text_splitters import RecursiveCharacterTextSplitter\n",
    "\n",
    "text_splitter = RecursiveCharacterTextSplitter(\n",
    "    chunk_size=500,  # chunk size (characters)\n",
    "    chunk_overlap=200,  # chunk overlap (characters)\n",
    "    add_start_index=True,  # track index in original document\n",
    ")\n",
    "all_splits = text_splitter.split_documents(dir_docs)\n",
    "\n",
    "print(f\"Split blog post into {len(all_splits)} sub-documents.\")\n",
    "chunks = [x.page_content for x in all_splits]"
   ]
  },
  {
   "cell_type": "markdown",
   "id": "28f7e371",
   "metadata": {},
   "source": [
    "### Embedding"
   ]
  },
  {
   "cell_type": "code",
   "execution_count": 3,
   "id": "b3fae932",
   "metadata": {},
   "outputs": [
    {
     "name": "stderr",
     "output_type": "stream",
     "text": [
      "/home/ayush/Documents/AI/Projects/Rag_Application/venv/lib/python3.12/site-packages/tqdm/auto.py:21: TqdmWarning: IProgress not found. Please update jupyter and ipywidgets. See https://ipywidgets.readthedocs.io/en/stable/user_install.html\n",
      "  from .autonotebook import tqdm as notebook_tqdm\n"
     ]
    }
   ],
   "source": [
    "import numpy as np\n",
    "from sentence_transformers import SentenceTransformer"
   ]
  },
  {
   "cell_type": "code",
   "execution_count": 4,
   "id": "f0900c0b",
   "metadata": {},
   "outputs": [
    {
     "name": "stdout",
     "output_type": "stream",
     "text": [
      "Initalizing the embedding model : all-MiniLM-L6-v2\n",
      "Model of embedding has sucessfully Intialized, Embedding size is 384\n",
      "Generating Embedding for 42\n"
     ]
    },
    {
     "name": "stderr",
     "output_type": "stream",
     "text": [
      "Batches: 100%|██████████| 2/2 [00:02<00:00,  1.08s/it]"
     ]
    },
    {
     "name": "stdout",
     "output_type": "stream",
     "text": [
      "Shapeof Embedding are (42, 384)\n"
     ]
    },
    {
     "name": "stderr",
     "output_type": "stream",
     "text": [
      "\n"
     ]
    }
   ],
   "source": [
    "class EmbeddingManager:\n",
    "    \"\"\"It will handle embedding of text by SentenceTransformer\"\"\"\n",
    "    def __init__(self,model_name:str=\"all-MiniLM-L6-v2\"):\n",
    "        \"\"\"\n",
    "        Args : \n",
    "            model_name : Huggingface model name for sentence emedding\n",
    "        \"\"\"\n",
    "        self.model_name=model_name\n",
    "        self.model=None\n",
    "        self._load_model()\n",
    "    \n",
    "    def _load_model(self):\n",
    "        \"\"\"Load the SentenceTransformer model\"\"\"\n",
    "        try:\n",
    "            print(f'Initalizing the embedding model : {self.model_name}')\n",
    "            self.model = SentenceTransformer(self.model_name)\n",
    "            print(f'Model of embedding has sucessfully Intialized, Embedding size is {self.model.get_sentence_embedding_dimension()}')\n",
    "        except Exception as e:\n",
    "            print(f\"Error while Initialing the model : {self.model_name}\")\n",
    "            raise\n",
    "    def generate_Embedding(self,texts:list[str])->np.ndarray:\n",
    "        \"\"\"\n",
    "        Generate embedding from the text and take list of text as argument\n",
    "        \n",
    "        return a list of numpy array with shape(len(text),embedding_dim)\n",
    "        \"\"\"\n",
    "        if not self.model:\n",
    "            raise ValueError('No Model Given')\n",
    "        print(f'Generating Embedding for {len(texts)}')\n",
    "        embeddings = self.model.encode(texts,show_progress_bar=True)\n",
    "        print(f'Shapeof Embedding are {embeddings.shape}')\n",
    "        return embeddings\n",
    "\n",
    "#Intializing the Embedding \n",
    "embeddingManager = EmbeddingManager()\n",
    "embedding = embeddingManager.generate_Embedding(chunks)"
   ]
  },
  {
   "cell_type": "markdown",
   "id": "ba8de4fd",
   "metadata": {},
   "source": [
    "### VectorDb"
   ]
  },
  {
   "cell_type": "code",
   "execution_count": 5,
   "id": "4a3c7cfe",
   "metadata": {},
   "outputs": [],
   "source": [
    "from chromadb.config import Settings\n",
    "import chromadb\n",
    "from sklearn.metrics.pairwise import cosine_similarity\n",
    "from typing import List,Dict,Any,Tuple\n",
    "import uuid\n",
    "import os"
   ]
  },
  {
   "cell_type": "code",
   "execution_count": 6,
   "id": "0e971fdc",
   "metadata": {},
   "outputs": [
    {
     "name": "stdout",
     "output_type": "stream",
     "text": [
      "Vector store intialized, collection name: pdf_documents\n",
      "Existing documents in collection: 168\n",
      "42 documents are being adding to vectorDB\n",
      "Successfully added 42 documents to vector store\n",
      "Total Document stored in vectorDB is 210\n"
     ]
    }
   ],
   "source": [
    "class VectorStore:\n",
    "    def __init__(self,collection_name:str=\"pdf_documents\",persist_directory:str=\"../data/vector_store\"):\n",
    "        \"\"\"\n",
    "        Args:\n",
    "            collection_name: Name of the chromeDB collection\n",
    "            persist_directory: Directry to persist the vector store\n",
    "        \"\"\"\n",
    "        self.collection_name=collection_name\n",
    "        self.persist_directory = persist_directory\n",
    "        self.client=None\n",
    "        self.collection=None\n",
    "        self._initalize_store()\n",
    "\n",
    "    def _initalize_store(self):\n",
    "        \"\"\"Initialize the Chromedb client and collection\"\"\"\n",
    "        try:\n",
    "            # Create persistant chromaDB client\n",
    "            os.makedirs(self.persist_directory,exist_ok=True)\n",
    "            self.client = chromadb.PersistentClient(path=self.persist_directory)\n",
    "\n",
    "            # Get or create the collection \n",
    "            self.collection = self.client.get_or_create_collection(\n",
    "                name=self.collection_name,\n",
    "                metadata={\"description\":\"Pdf Document embeddings for RAG\"}\n",
    "            )\n",
    "            print(f\"Vector store intialized, collection name: {self.collection_name}\")\n",
    "            print(f\"Existing documents in collection: {self.collection.count()}\")\n",
    "        except Exception as e:\n",
    "            print(f\"Error while intializing the vectorDB {e}\")\n",
    "            raise\n",
    "    \n",
    "    def add_documents(self,documents: list[any],embedding:np.ndarray):\n",
    "        \"\"\"\n",
    "        Add document , embedding to to vector db\n",
    "\n",
    "        Args:\n",
    "            documents : List of langchain document\n",
    "            embedding : corresponding embeddings for the documents  \n",
    "        \"\"\"\n",
    "        if len(documents) != len(embedding):\n",
    "            print(\"Length of document and embedding are not same.\")\n",
    "        print(f\"{len(documents)} documents are being adding to vectorDB\")\n",
    "\n",
    "        # Preparing Data for ChromoDB\n",
    "        ids=[]\n",
    "        metadatas=[]\n",
    "        documents_text=[]\n",
    "        embedding_text = []\n",
    "\n",
    "        # feeding the data in specific data list\n",
    "        for i, (doc,embedd) in enumerate(zip(documents,embedding)):\n",
    "            # feeding ID\n",
    "            doc_id = f\"doc_{uuid.uuid4().hex[:8]}_{i}\"\n",
    "            ids.append(doc_id)\n",
    "\n",
    "            # feeding metadata\n",
    "            md = dict(doc.metadata)\n",
    "            md['doc_index'] = i\n",
    "            md['content_lenght']=len(doc.page_content)\n",
    "            metadatas.append(md)\n",
    "\n",
    "            #fedding document text\n",
    "            documents_text.append(doc.page_content)\n",
    "            #fedding embedding\n",
    "            embedding_text.append(embedd.tolist())\n",
    "        try:\n",
    "            self.collection.add(\n",
    "                ids=ids,\n",
    "                embeddings=embedding_text,\n",
    "                metadatas=metadatas,\n",
    "                documents=documents_text\n",
    "            )\n",
    "            print(f\"Successfully added {len(documents)} documents to vector store\")\n",
    "            print(f\"Total Document stored in vectorDB is {self.collection.count()}\")\n",
    "        except Exception as e:\n",
    "            print(\"Error while feeding the document : {e}\")\n",
    "            raise\n",
    "\n",
    "vectordb = VectorStore()\n",
    "vectordb.add_documents(all_splits,embedding)"
   ]
  },
  {
   "cell_type": "markdown",
   "id": "a58f918a",
   "metadata": {},
   "source": [
    "# Retrieval and generation"
   ]
  },
  {
   "cell_type": "markdown",
   "id": "d119f6de",
   "metadata": {},
   "source": [
    "## Retrieval"
   ]
  },
  {
   "cell_type": "code",
   "execution_count": 7,
   "id": "50850aba",
   "metadata": {},
   "outputs": [
    {
     "name": "stdout",
     "output_type": "stream",
     "text": [
      "Retreival has been Intialized\n"
     ]
    }
   ],
   "source": [
    "class RetreivalManager:\n",
    "    \"\"\"\n",
    "    This class will Retrieval similar context with query from VectorStore\n",
    "    \"\"\"\n",
    "    def __init__(self, vector_store: VectorStore, embedding_manager: EmbeddingManager):\n",
    "        print('Retreival has been Intialized')\n",
    "        self.vector_store = vector_store\n",
    "        self.embedding_manager = embedding_manager\n",
    "    def retreive(self,query:str,top_k:int=5,score_threshold:float=0.0)->List[dict[str,Any]]:\n",
    "        \"\"\"\n",
    "        Retreive the data \n",
    "\n",
    "        Arg:\n",
    "            query:given by the user\n",
    "            top_k:top k similar context\n",
    "            score_threshold : minimum similarity score\n",
    "         Returns:\n",
    "            List of dictionaries containing retrieved documents and metadata\n",
    "        \"\"\"\n",
    "        print(f\"Retrieving documents for query: '{query}'\")\n",
    "        print(f\"Top K: {top_k}, Score threshold: {score_threshold}\")\n",
    "        embedded_query = self.embedding_manager.generate_Embedding([query])[0]\n",
    "        try:\n",
    "            result = self.vector_store.collection.query(\n",
    "                query_embeddings=[embedded_query.tolist()],\n",
    "                n_results=top_k\n",
    "            )\n",
    "            retreived_docs = []\n",
    "            if result['documents'] and result['documents'][0]:\n",
    "                ids = result['ids'][0]\n",
    "                distances = result['distances'][0]\n",
    "                documents = result['documents'][0]\n",
    "                metadatas = result['metadatas'][0]\n",
    "                for i, (doc_id, distance, document, metadata) in enumerate(zip(ids, distances, documents, metadatas)):\n",
    "                    similarity_score = 1-distance  # distance (0 = same, 1 = far) → into similarity score (1 = same, 0 = far).\n",
    "                    if similarity_score>=score_threshold:\n",
    "                        retreived_docs.append({\n",
    "                            'id': doc_id,\n",
    "                            'content': document,\n",
    "                            'metadata': metadata,\n",
    "                            'similarity_score': similarity_score,\n",
    "                            'distance': distance,\n",
    "                            'rank': i + 1\n",
    "                        })\n",
    "                print(f'{len(retreived_docs)} retreived from vectordb')\n",
    "                return retreived_docs\n",
    "            else:\n",
    "                print('No Document found')\n",
    "        except Exception as e:\n",
    "            print(f'Error while retreiving the data : {e}')\n",
    "            raise\n",
    "rm = RetreivalManager(vectordb, embeddingManager)"
   ]
  },
  {
   "cell_type": "code",
   "execution_count": 8,
   "id": "f7e4a641",
   "metadata": {},
   "outputs": [
    {
     "name": "stdout",
     "output_type": "stream",
     "text": [
      "Retrieving documents for query: 'Is this a Dell vostro laptop'\n",
      "Top K: 5, Score threshold: 0.0\n",
      "Generating Embedding for 1\n"
     ]
    },
    {
     "name": "stderr",
     "output_type": "stream",
     "text": [
      "Batches: 100%|██████████| 1/1 [00:00<00:00, 16.84it/s]"
     ]
    },
    {
     "name": "stdout",
     "output_type": "stream",
     "text": [
      "Shapeof Embedding are (1, 384)\n",
      "5 retreived from vectordb\n"
     ]
    },
    {
     "name": "stderr",
     "output_type": "stream",
     "text": [
      "\n"
     ]
    },
    {
     "data": {
      "text/plain": [
       "[{'id': 'doc_01285239_38',\n",
       "  'content': 'Maharashtra -421302, Bhiwandi, MAHARASHTRA, India - 421302, IN-MH\\nGSTIN - 27AAFCI2112P1ZH\\nTotal items: 1\\nProduct\\nTitle\\nQty\\nGross\\nAmount ₹\\nDiscounts\\n/Coupons ₹\\nTaxable\\nValue ₹\\nIGST ₹\\nTotal ₹\\nLaptops\\nFSN: \\nCOMG36KGCDP4HHVT\\nHSN/SAC: 84713010\\nDELL Vostro Core i3 10th \\nGen - (8 GB/512 GB SSD\\n/Windows 10) Vostro 3401 \\nThin and Light Laptop\\nWarranty: 1 Year Onsite Warranty\\n1. [IMEI/Serial No: \\n ]\\n1NBSYH3\\n 18.0 %\\nIGST:\\n1\\n35990.00\\n-2500.00\\n28381.36\\n5108.64\\n33490.00\\nShipping And Handling Charges\\n1\\n40.00',\n",
       "  'metadata': {'keywords': '',\n",
       "   'author': '',\n",
       "   'subject': '',\n",
       "   'doc_index': 38,\n",
       "   'source': '../data/pdf_file/laptopinvoice.pdf',\n",
       "   'moddate': '2023-07-14T12:32:41+05:30',\n",
       "   'creationDate': \"D:20230714123241+05'30'\",\n",
       "   'total_pages': 1,\n",
       "   'page': 0,\n",
       "   'format': 'PDF 1.4',\n",
       "   'start_index': 678,\n",
       "   'trapped': '',\n",
       "   'file_path': '../data/pdf_file/laptopinvoice.pdf',\n",
       "   'content_lenght': 498,\n",
       "   'title': '',\n",
       "   'creator': '',\n",
       "   'creationdate': '2023-07-14T12:32:41+05:30',\n",
       "   'modDate': \"D:20230714123241+05'30'\",\n",
       "   'producer': 'iText® 5.5.6 ©2000-2015 iText Group NV (AGPL-version)'},\n",
       "  'similarity_score': 0.058403849601745605,\n",
       "  'distance': 0.9415961503982544,\n",
       "  'rank': 1},\n",
       " {'id': 'doc_40d069df_38',\n",
       "  'content': 'Maharashtra -421302, Bhiwandi, MAHARASHTRA, India - 421302, IN-MH\\nGSTIN - 27AAFCI2112P1ZH\\nTotal items: 1\\nProduct\\nTitle\\nQty\\nGross\\nAmount ₹\\nDiscounts\\n/Coupons ₹\\nTaxable\\nValue ₹\\nIGST ₹\\nTotal ₹\\nLaptops\\nFSN: \\nCOMG36KGCDP4HHVT\\nHSN/SAC: 84713010\\nDELL Vostro Core i3 10th \\nGen - (8 GB/512 GB SSD\\n/Windows 10) Vostro 3401 \\nThin and Light Laptop\\nWarranty: 1 Year Onsite Warranty\\n1. [IMEI/Serial No: \\n ]\\n1NBSYH3\\n 18.0 %\\nIGST:\\n1\\n35990.00\\n-2500.00\\n28381.36\\n5108.64\\n33490.00\\nShipping And Handling Charges\\n1\\n40.00',\n",
       "  'metadata': {'format': 'PDF 1.4',\n",
       "   'title': '',\n",
       "   'content_lenght': 498,\n",
       "   'creationDate': \"D:20230714123241+05'30'\",\n",
       "   'trapped': '',\n",
       "   'file_path': '../data/pdf_file/laptopinvoice.pdf',\n",
       "   'creator': '',\n",
       "   'producer': 'iText® 5.5.6 ©2000-2015 iText Group NV (AGPL-version)',\n",
       "   'creationdate': '2023-07-14T12:32:41+05:30',\n",
       "   'moddate': '2023-07-14T12:32:41+05:30',\n",
       "   'subject': '',\n",
       "   'modDate': \"D:20230714123241+05'30'\",\n",
       "   'keywords': '',\n",
       "   'start_index': 678,\n",
       "   'author': '',\n",
       "   'doc_index': 38,\n",
       "   'source': '../data/pdf_file/laptopinvoice.pdf',\n",
       "   'page': 0,\n",
       "   'total_pages': 1},\n",
       "  'similarity_score': 0.058403849601745605,\n",
       "  'distance': 0.9415961503982544,\n",
       "  'rank': 2},\n",
       " {'id': 'doc_5b4f1b3b_38',\n",
       "  'content': 'Maharashtra -421302, Bhiwandi, MAHARASHTRA, India - 421302, IN-MH\\nGSTIN - 27AAFCI2112P1ZH\\nTotal items: 1\\nProduct\\nTitle\\nQty\\nGross\\nAmount ₹\\nDiscounts\\n/Coupons ₹\\nTaxable\\nValue ₹\\nIGST ₹\\nTotal ₹\\nLaptops\\nFSN: \\nCOMG36KGCDP4HHVT\\nHSN/SAC: 84713010\\nDELL Vostro Core i3 10th \\nGen - (8 GB/512 GB SSD\\n/Windows 10) Vostro 3401 \\nThin and Light Laptop\\nWarranty: 1 Year Onsite Warranty\\n1. [IMEI/Serial No: \\n ]\\n1NBSYH3\\n 18.0 %\\nIGST:\\n1\\n35990.00\\n-2500.00\\n28381.36\\n5108.64\\n33490.00\\nShipping And Handling Charges\\n1\\n40.00',\n",
       "  'metadata': {'modDate': \"D:20230714123241+05'30'\",\n",
       "   'creationDate': \"D:20230714123241+05'30'\",\n",
       "   'source': '../data/pdf_file/laptopinvoice.pdf',\n",
       "   'subject': '',\n",
       "   'producer': 'iText® 5.5.6 ©2000-2015 iText Group NV (AGPL-version)',\n",
       "   'keywords': '',\n",
       "   'creationdate': '2023-07-14T12:32:41+05:30',\n",
       "   'moddate': '2023-07-14T12:32:41+05:30',\n",
       "   'format': 'PDF 1.4',\n",
       "   'author': '',\n",
       "   'start_index': 678,\n",
       "   'creator': '',\n",
       "   'trapped': '',\n",
       "   'content_lenght': 498,\n",
       "   'doc_index': 38,\n",
       "   'title': '',\n",
       "   'file_path': '../data/pdf_file/laptopinvoice.pdf',\n",
       "   'total_pages': 1,\n",
       "   'page': 0},\n",
       "  'similarity_score': 0.058403849601745605,\n",
       "  'distance': 0.9415961503982544,\n",
       "  'rank': 3},\n",
       " {'id': 'doc_667a493f_38',\n",
       "  'content': 'Maharashtra -421302, Bhiwandi, MAHARASHTRA, India - 421302, IN-MH\\nGSTIN - 27AAFCI2112P1ZH\\nTotal items: 1\\nProduct\\nTitle\\nQty\\nGross\\nAmount ₹\\nDiscounts\\n/Coupons ₹\\nTaxable\\nValue ₹\\nIGST ₹\\nTotal ₹\\nLaptops\\nFSN: \\nCOMG36KGCDP4HHVT\\nHSN/SAC: 84713010\\nDELL Vostro Core i3 10th \\nGen - (8 GB/512 GB SSD\\n/Windows 10) Vostro 3401 \\nThin and Light Laptop\\nWarranty: 1 Year Onsite Warranty\\n1. [IMEI/Serial No: \\n ]\\n1NBSYH3\\n 18.0 %\\nIGST:\\n1\\n35990.00\\n-2500.00\\n28381.36\\n5108.64\\n33490.00\\nShipping And Handling Charges\\n1\\n40.00',\n",
       "  'metadata': {'trapped': '',\n",
       "   'file_path': '../data/pdf_file/laptopinvoice.pdf',\n",
       "   'creationdate': '2023-07-14T12:32:41+05:30',\n",
       "   'author': '',\n",
       "   'start_index': 678,\n",
       "   'keywords': '',\n",
       "   'moddate': '2023-07-14T12:32:41+05:30',\n",
       "   'source': '../data/pdf_file/laptopinvoice.pdf',\n",
       "   'content_lenght': 498,\n",
       "   'producer': 'iText® 5.5.6 ©2000-2015 iText Group NV (AGPL-version)',\n",
       "   'doc_index': 38,\n",
       "   'creator': '',\n",
       "   'page': 0,\n",
       "   'subject': '',\n",
       "   'creationDate': \"D:20230714123241+05'30'\",\n",
       "   'modDate': \"D:20230714123241+05'30'\",\n",
       "   'title': '',\n",
       "   'total_pages': 1,\n",
       "   'format': 'PDF 1.4'},\n",
       "  'similarity_score': 0.058403849601745605,\n",
       "  'distance': 0.9415961503982544,\n",
       "  'rank': 4},\n",
       " {'id': 'doc_519783c2_38',\n",
       "  'content': 'Maharashtra -421302, Bhiwandi, MAHARASHTRA, India - 421302, IN-MH\\nGSTIN - 27AAFCI2112P1ZH\\nTotal items: 1\\nProduct\\nTitle\\nQty\\nGross\\nAmount ₹\\nDiscounts\\n/Coupons ₹\\nTaxable\\nValue ₹\\nIGST ₹\\nTotal ₹\\nLaptops\\nFSN: \\nCOMG36KGCDP4HHVT\\nHSN/SAC: 84713010\\nDELL Vostro Core i3 10th \\nGen - (8 GB/512 GB SSD\\n/Windows 10) Vostro 3401 \\nThin and Light Laptop\\nWarranty: 1 Year Onsite Warranty\\n1. [IMEI/Serial No: \\n ]\\n1NBSYH3\\n 18.0 %\\nIGST:\\n1\\n35990.00\\n-2500.00\\n28381.36\\n5108.64\\n33490.00\\nShipping And Handling Charges\\n1\\n40.00',\n",
       "  'metadata': {'creationDate': \"D:20230714123241+05'30'\",\n",
       "   'subject': '',\n",
       "   'total_pages': 1,\n",
       "   'title': '',\n",
       "   'modDate': \"D:20230714123241+05'30'\",\n",
       "   'producer': 'iText® 5.5.6 ©2000-2015 iText Group NV (AGPL-version)',\n",
       "   'format': 'PDF 1.4',\n",
       "   'creationdate': '2023-07-14T12:32:41+05:30',\n",
       "   'author': '',\n",
       "   'start_index': 678,\n",
       "   'creator': '',\n",
       "   'keywords': '',\n",
       "   'doc_index': 38,\n",
       "   'trapped': '',\n",
       "   'content_lenght': 498,\n",
       "   'file_path': '../data/pdf_file/laptopinvoice.pdf',\n",
       "   'source': '../data/pdf_file/laptopinvoice.pdf',\n",
       "   'page': 0,\n",
       "   'moddate': '2023-07-14T12:32:41+05:30'},\n",
       "  'similarity_score': 0.058403849601745605,\n",
       "  'distance': 0.9415961503982544,\n",
       "  'rank': 5}]"
      ]
     },
     "execution_count": 8,
     "metadata": {},
     "output_type": "execute_result"
    }
   ],
   "source": [
    "rm.retreive(\"Is this a Dell vostro laptop\")"
   ]
  },
  {
   "cell_type": "code",
   "execution_count": 11,
   "id": "ef569e31",
   "metadata": {},
   "outputs": [
    {
     "name": "stdout",
     "output_type": "stream",
     "text": [
      "Retrieving documents for query: 'Arithmetic Expansion'\n",
      "Top K: 5, Score threshold: 0.0\n",
      "Generating Embedding for 1\n"
     ]
    },
    {
     "name": "stderr",
     "output_type": "stream",
     "text": [
      "Batches: 100%|██████████| 1/1 [00:00<00:00, 17.44it/s]"
     ]
    },
    {
     "name": "stdout",
     "output_type": "stream",
     "text": [
      "Shapeof Embedding are (1, 384)\n",
      "5 retreived from vectordb\n"
     ]
    },
    {
     "name": "stderr",
     "output_type": "stream",
     "text": [
      "\n"
     ]
    },
    {
     "data": {
      "text/plain": [
       "[{'id': 'doc_5eb5c9dd_14',\n",
       "  'content': 'Expansion\\n[me@linuxbox ~]$ echo ~foo\\n/home/foo\\nArithmetic Expansion\\nThe shell allows arithmetic to be performed by expansion. This allows us to use the shell\\nprompt as a calculator.\\n[me@linuxbox ~]$ echo $((2 + 2))\\n4\\nArithmetic expansion uses the following form:\\n$((expression))\\nwhere expression is an arithmetic expression consisting of values and arithmetic opera-\\ntors.\\nArithmetic expansion supports only integers (whole numbers, no decimals) but can per-',\n",
       "  'metadata': {'producer': 'cairo 1.18.0 (https://cairographics.org)',\n",
       "   'file_path': '../data/pdf_file/output.pdf',\n",
       "   'subject': '',\n",
       "   'creationdate': '2025-01-14T15:25:37+05:30',\n",
       "   'keywords': '',\n",
       "   'format': 'PDF 1.7',\n",
       "   'creationDate': \"D:20250114152537+05'30\",\n",
       "   'content_lenght': 458,\n",
       "   'start_index': 0,\n",
       "   'title': '',\n",
       "   'moddate': '',\n",
       "   'modDate': '',\n",
       "   'trapped': '',\n",
       "   'author': '',\n",
       "   'source': '../data/pdf_file/output.pdf',\n",
       "   'creator': '',\n",
       "   'total_pages': 8,\n",
       "   'page': 3,\n",
       "   'doc_index': 14},\n",
       "  'similarity_score': 0.21675878763198853,\n",
       "  'distance': 0.7832412123680115,\n",
       "  'rank': 1},\n",
       " {'id': 'doc_9ec8076d_14',\n",
       "  'content': 'Expansion\\n[me@linuxbox ~]$ echo ~foo\\n/home/foo\\nArithmetic Expansion\\nThe shell allows arithmetic to be performed by expansion. This allows us to use the shell\\nprompt as a calculator.\\n[me@linuxbox ~]$ echo $((2 + 2))\\n4\\nArithmetic expansion uses the following form:\\n$((expression))\\nwhere expression is an arithmetic expression consisting of values and arithmetic opera-\\ntors.\\nArithmetic expansion supports only integers (whole numbers, no decimals) but can per-',\n",
       "  'metadata': {'keywords': '',\n",
       "   'title': '',\n",
       "   'subject': '',\n",
       "   'start_index': 0,\n",
       "   'author': '',\n",
       "   'modDate': '',\n",
       "   'doc_index': 14,\n",
       "   'creationDate': \"D:20250114152537+05'30\",\n",
       "   'creationdate': '2025-01-14T15:25:37+05:30',\n",
       "   'total_pages': 8,\n",
       "   'file_path': '../data/pdf_file/output.pdf',\n",
       "   'format': 'PDF 1.7',\n",
       "   'trapped': '',\n",
       "   'producer': 'cairo 1.18.0 (https://cairographics.org)',\n",
       "   'moddate': '',\n",
       "   'creator': '',\n",
       "   'page': 3,\n",
       "   'source': '../data/pdf_file/output.pdf',\n",
       "   'content_lenght': 458},\n",
       "  'similarity_score': 0.21675878763198853,\n",
       "  'distance': 0.7832412123680115,\n",
       "  'rank': 2},\n",
       " {'id': 'doc_33135d49_14',\n",
       "  'content': 'Expansion\\n[me@linuxbox ~]$ echo ~foo\\n/home/foo\\nArithmetic Expansion\\nThe shell allows arithmetic to be performed by expansion. This allows us to use the shell\\nprompt as a calculator.\\n[me@linuxbox ~]$ echo $((2 + 2))\\n4\\nArithmetic expansion uses the following form:\\n$((expression))\\nwhere expression is an arithmetic expression consisting of values and arithmetic opera-\\ntors.\\nArithmetic expansion supports only integers (whole numbers, no decimals) but can per-',\n",
       "  'metadata': {'trapped': '',\n",
       "   'subject': '',\n",
       "   'creationDate': \"D:20250114152537+05'30\",\n",
       "   'title': '',\n",
       "   'author': '',\n",
       "   'source': '../data/pdf_file/output.pdf',\n",
       "   'modDate': '',\n",
       "   'producer': 'cairo 1.18.0 (https://cairographics.org)',\n",
       "   'content_lenght': 458,\n",
       "   'moddate': '',\n",
       "   'total_pages': 8,\n",
       "   'file_path': '../data/pdf_file/output.pdf',\n",
       "   'format': 'PDF 1.7',\n",
       "   'keywords': '',\n",
       "   'creationdate': '2025-01-14T15:25:37+05:30',\n",
       "   'doc_index': 14,\n",
       "   'page': 3,\n",
       "   'creator': '',\n",
       "   'start_index': 0},\n",
       "  'similarity_score': 0.21675878763198853,\n",
       "  'distance': 0.7832412123680115,\n",
       "  'rank': 3},\n",
       " {'id': 'doc_4f1795aa_14',\n",
       "  'content': 'Expansion\\n[me@linuxbox ~]$ echo ~foo\\n/home/foo\\nArithmetic Expansion\\nThe shell allows arithmetic to be performed by expansion. This allows us to use the shell\\nprompt as a calculator.\\n[me@linuxbox ~]$ echo $((2 + 2))\\n4\\nArithmetic expansion uses the following form:\\n$((expression))\\nwhere expression is an arithmetic expression consisting of values and arithmetic opera-\\ntors.\\nArithmetic expansion supports only integers (whole numbers, no decimals) but can per-',\n",
       "  'metadata': {'trapped': '',\n",
       "   'creationDate': \"D:20250114152537+05'30\",\n",
       "   'page': 3,\n",
       "   'modDate': '',\n",
       "   'file_path': '../data/pdf_file/output.pdf',\n",
       "   'source': '../data/pdf_file/output.pdf',\n",
       "   'subject': '',\n",
       "   'keywords': '',\n",
       "   'title': '',\n",
       "   'doc_index': 14,\n",
       "   'creator': '',\n",
       "   'producer': 'cairo 1.18.0 (https://cairographics.org)',\n",
       "   'author': '',\n",
       "   'creationdate': '2025-01-14T15:25:37+05:30',\n",
       "   'format': 'PDF 1.7',\n",
       "   'moddate': '',\n",
       "   'start_index': 0,\n",
       "   'total_pages': 8,\n",
       "   'content_lenght': 458},\n",
       "  'similarity_score': 0.21675878763198853,\n",
       "  'distance': 0.7832412123680115,\n",
       "  'rank': 4},\n",
       " {'id': 'doc_c13d6c3d_14',\n",
       "  'content': 'Expansion\\n[me@linuxbox ~]$ echo ~foo\\n/home/foo\\nArithmetic Expansion\\nThe shell allows arithmetic to be performed by expansion. This allows us to use the shell\\nprompt as a calculator.\\n[me@linuxbox ~]$ echo $((2 + 2))\\n4\\nArithmetic expansion uses the following form:\\n$((expression))\\nwhere expression is an arithmetic expression consisting of values and arithmetic opera-\\ntors.\\nArithmetic expansion supports only integers (whole numbers, no decimals) but can per-',\n",
       "  'metadata': {'modDate': '',\n",
       "   'total_pages': 8,\n",
       "   'moddate': '',\n",
       "   'author': '',\n",
       "   'producer': 'cairo 1.18.0 (https://cairographics.org)',\n",
       "   'trapped': '',\n",
       "   'creator': '',\n",
       "   'doc_index': 14,\n",
       "   'content_lenght': 458,\n",
       "   'creationdate': '2025-01-14T15:25:37+05:30',\n",
       "   'source': '../data/pdf_file/output.pdf',\n",
       "   'creationDate': \"D:20250114152537+05'30\",\n",
       "   'page': 3,\n",
       "   'start_index': 0,\n",
       "   'subject': '',\n",
       "   'format': 'PDF 1.7',\n",
       "   'title': '',\n",
       "   'file_path': '../data/pdf_file/output.pdf',\n",
       "   'keywords': ''},\n",
       "  'similarity_score': 0.21675878763198853,\n",
       "  'distance': 0.7832412123680115,\n",
       "  'rank': 5}]"
      ]
     },
     "execution_count": 11,
     "metadata": {},
     "output_type": "execute_result"
    }
   ],
   "source": [
    "rm.retreive(\"Arithmetic Expansion\")"
   ]
  },
  {
   "cell_type": "markdown",
   "id": "019bdc93",
   "metadata": {},
   "source": [
    "## Generation"
   ]
  },
  {
   "cell_type": "code",
   "execution_count": null,
   "id": "6c4d634b",
   "metadata": {},
   "outputs": [],
   "source": []
  }
 ],
 "metadata": {
  "kernelspec": {
   "display_name": "venv",
   "language": "python",
   "name": "python3"
  },
  "language_info": {
   "codemirror_mode": {
    "name": "ipython",
    "version": 3
   },
   "file_extension": ".py",
   "mimetype": "text/x-python",
   "name": "python",
   "nbconvert_exporter": "python",
   "pygments_lexer": "ipython3",
   "version": "3.12.3"
  }
 },
 "nbformat": 4,
 "nbformat_minor": 5
}
