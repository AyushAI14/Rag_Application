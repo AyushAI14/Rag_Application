{
 "cells": [
  {
   "cell_type": "markdown",
   "id": "428b01c3",
   "metadata": {},
   "source": [
    "# Indexing"
   ]
  },
  {
   "cell_type": "markdown",
   "id": "d7eefe1e",
   "metadata": {},
   "source": [
    "###  Data load"
   ]
  },
  {
   "cell_type": "code",
   "execution_count": 28,
   "id": "8ce8006f",
   "metadata": {},
   "outputs": [
    {
     "name": "stdout",
     "output_type": "stream",
     "text": [
      "9\n"
     ]
    }
   ],
   "source": [
    "from langchain_community.document_loaders import PyPDFLoader,PyMuPDFLoader,DirectoryLoader\n",
    "\n",
    "dirload  = DirectoryLoader(\n",
    "    path='../data/pdf_file/',\n",
    "    glob='**/*.pdf',\n",
    "    loader_cls=PyMuPDFLoader\n",
    ")\n",
    "dir_docs = dirload.load()\n",
    "print(len(dir_docs))"
   ]
  },
  {
   "cell_type": "markdown",
   "id": "3490ecc7",
   "metadata": {},
   "source": [
    "### data splitting"
   ]
  },
  {
   "cell_type": "code",
   "execution_count": 35,
   "metadata": {},
   "outputs": [
    {
     "name": "stdout",
     "output_type": "stream",
     "text": [
      "Split blog post into 42 sub-documents.\n"
     ]
    }
   ],
   "source": [
    "# splitting from langchain_text_splitters \n",
    "from langchain_text_splitters import RecursiveCharacterTextSplitter\n",
    "\n",
    "text_splitter = RecursiveCharacterTextSplitter(\n",
    "    chunk_size=500,  # chunk size (characters)\n",
    "    chunk_overlap=200,  # chunk overlap (characters)\n",
    "    add_start_index=True,  # track index in original document\n",
    ")\n",
    "all_splits = text_splitter.split_documents(dir_docs)\n",
    "\n",
    "print(f\"Split blog post into {len(all_splits)} sub-documents.\")\n",
    "chunks = [x.page_content for x in all_splits]"
   ]
  },
  {
   "cell_type": "markdown",
   "id": "28f7e371",
   "metadata": {},
   "source": [
    "### Embedding"
   ]
  },
  {
   "cell_type": "code",
   "execution_count": 30,
   "id": "b3fae932",
   "metadata": {},
   "outputs": [],
   "source": [
    "import numpy as np\n",
    "from sentence_transformers import SentenceTransformer"
   ]
  },
  {
   "cell_type": "code",
   "execution_count": 36,
   "id": "f0900c0b",
   "metadata": {},
   "outputs": [
    {
     "name": "stdout",
     "output_type": "stream",
     "text": [
      "Initalizing the embedding model : all-MiniLM-L6-v2\n",
      "Model of embedding has sucessfully Intialized, Embedding size is 384\n",
      "Generating Embedding for 42\n"
     ]
    },
    {
     "name": "stderr",
     "output_type": "stream",
     "text": [
      "Batches: 100%|██████████| 2/2 [00:03<00:00,  1.52s/it]"
     ]
    },
    {
     "name": "stdout",
     "output_type": "stream",
     "text": [
      "Shapeof Embedding are (42, 384)\n"
     ]
    },
    {
     "name": "stderr",
     "output_type": "stream",
     "text": [
      "\n"
     ]
    }
   ],
   "source": [
    "class EmbeddingManager:\n",
    "    \"\"\"It will handle embedding of text by SentenceTransformer\"\"\"\n",
    "    def __init__(self,model_name:str=\"all-MiniLM-L6-v2\"):\n",
    "        \"\"\"\n",
    "        Args : \n",
    "            model_name : Huggingface model name for sentence emedding\n",
    "        \"\"\"\n",
    "        self.model_name=model_name\n",
    "        self.model=None\n",
    "        self._load_model()\n",
    "    \n",
    "    def _load_model(self):\n",
    "        \"\"\"Load the SentenceTransformer model\"\"\"\n",
    "        try:\n",
    "            print(f'Initalizing the embedding model : {self.model_name}')\n",
    "            self.model = SentenceTransformer(self.model_name)\n",
    "            print(f'Model of embedding has sucessfully Intialized, Embedding size is {self.model.get_sentence_embedding_dimension()}')\n",
    "        except Exception as e:\n",
    "            print(f\"Error while Initialing the model : {self.model_name}\")\n",
    "            raise\n",
    "    def generate_Embedding(self,texts:list[str])->np.ndarray:\n",
    "        \"\"\"\n",
    "        Generate embedding from the text and take list of text as argument\n",
    "        \n",
    "        return a list of numpy array with shape(len(text),embedding_dim)\n",
    "        \"\"\"\n",
    "        if not self.model:\n",
    "            raise ValueError('No Model Given')\n",
    "        print(f'Generating Embedding for {len(texts)}')\n",
    "        embeddings = self.model.encode(texts,show_progress_bar=True)\n",
    "        print(f'Shapeof Embedding are {embeddings.shape}')\n",
    "        return embeddings\n",
    "\n",
    "#Intializing the Embedding \n",
    "embeddingManager = EmbeddingManager()\n",
    "embedding = embeddingManager.generate_Embedding(chunks)"
   ]
  },
  {
   "cell_type": "markdown",
   "id": "ba8de4fd",
   "metadata": {},
   "source": [
    "### VectorDb"
   ]
  },
  {
   "cell_type": "code",
   "execution_count": 37,
   "id": "4a3c7cfe",
   "metadata": {},
   "outputs": [],
   "source": [
    "from chromadb.config import Settings\n",
    "import chromadb\n",
    "from sklearn.metrics.pairwise import cosine_similarity\n",
    "from typing import List,Dict,Any,Tuple\n",
    "import uuid\n",
    "import os"
   ]
  },
  {
   "cell_type": "code",
   "execution_count": 41,
   "id": "0e971fdc",
   "metadata": {},
   "outputs": [
    {
     "name": "stdout",
     "output_type": "stream",
     "text": [
      "Vector store intialized, collection name: pdf_documents\n",
      "Existing documents in collection: 42\n",
      "42 documents are being adding to vectorDB\n",
      "Successfully added 42 documents to vector store\n",
      "Total Document stored in vectorDB is 84\n"
     ]
    }
   ],
   "source": [
    "class VectorStore:\n",
    "    def __init__(self,collection_name:str=\"pdf_documents\",persist_directory:str=\"../data/vector_store\"):\n",
    "        \"\"\"\n",
    "        Args:\n",
    "            collection_name: Name of the chromeDB collection\n",
    "            persist_directory: Directry to persist the vector store\n",
    "        \"\"\"\n",
    "        self.collection_name=collection_name\n",
    "        self.persist_directory = persist_directory\n",
    "        self.client=None\n",
    "        self.collection=None\n",
    "        self._initalize_store()\n",
    "\n",
    "    def _initalize_store(self):\n",
    "        \"\"\"Initialize the Chromedb client and collection\"\"\"\n",
    "        try:\n",
    "            # Create persistant chromaDB client\n",
    "            os.makedirs(self.persist_directory,exist_ok=True)\n",
    "            self.client = chromadb.PersistentClient(path=self.persist_directory)\n",
    "\n",
    "            # Get or create the collection \n",
    "            self.collection = self.client.get_or_create_collection(\n",
    "                name=self.collection_name,\n",
    "                metadata={\"description\":\"Pdf Document embeddings for RAG\"}\n",
    "            )\n",
    "            print(f\"Vector store intialized, collection name: {self.collection_name}\")\n",
    "            print(f\"Existing documents in collection: {self.collection.count()}\")\n",
    "        except Exception as e:\n",
    "            print(f\"Error while intializing the vectorDB {e}\")\n",
    "            raise\n",
    "    \n",
    "    def add_documents(self,documents: list[any],embedding:np.ndarray):\n",
    "        \"\"\"\n",
    "        Add document , embedding to to vector db\n",
    "\n",
    "        Args:\n",
    "            documents : List of langchain document\n",
    "            embedding : corresponding embeddings for the documents  \n",
    "        \"\"\"\n",
    "        if len(documents) != len(embedding):\n",
    "            print(\"Length of document and embedding are not same.\")\n",
    "        print(f\"{len(documents)} documents are being adding to vectorDB\")\n",
    "\n",
    "        # Preparing Data for ChromoDB\n",
    "        ids=[]\n",
    "        metadatas=[]\n",
    "        documents_text=[]\n",
    "        embedding_text = []\n",
    "\n",
    "        # feeding the data in specific data list\n",
    "        for i, (doc,embedd) in enumerate(zip(documents,embedding)):\n",
    "            # feeding ID\n",
    "            doc_id = f\"doc_{uuid.uuid4().hex[:8]}_{i}\"\n",
    "            ids.append(doc_id)\n",
    "\n",
    "            # feeding metadata\n",
    "            md = dict(doc.metadata)\n",
    "            md['doc_index'] = i\n",
    "            md['content_lenght']=len(doc.page_content)\n",
    "            metadatas.append(md)\n",
    "\n",
    "            #fedding document text\n",
    "            documents_text.append(doc.page_content)\n",
    "            #fedding embedding\n",
    "            embedding_text.append(embedd.tolist())\n",
    "        try:\n",
    "            self.collection.add(\n",
    "                ids=ids,\n",
    "                embeddings=embedding_text,\n",
    "                metadatas=metadatas,\n",
    "                documents=documents_text\n",
    "            )\n",
    "            print(f\"Successfully added {len(documents)} documents to vector store\")\n",
    "            print(f\"Total Document stored in vectorDB is {self.collection.count()}\")\n",
    "        except Exception as e:\n",
    "            print(\"Error while feeding the document : {e}\")\n",
    "            raise\n",
    "\n",
    "vectordb = VectorStore()\n",
    "vectordb.add_documents(all_splits,embedding)"
   ]
  },
  {
   "cell_type": "code",
   "execution_count": null,
   "id": "50850aba",
   "metadata": {},
   "outputs": [],
   "source": []
  },
  {
   "cell_type": "code",
   "execution_count": null,
   "id": "f7e4a641",
   "metadata": {},
   "outputs": [],
   "source": []
  }
 ],
 "metadata": {
  "kernelspec": {
   "display_name": "venv",
   "language": "python",
   "name": "python3"
  },
  "language_info": {
   "codemirror_mode": {
    "name": "ipython",
    "version": 3
   },
   "file_extension": ".py",
   "mimetype": "text/x-python",
   "name": "python",
   "nbconvert_exporter": "python",
   "pygments_lexer": "ipython3",
   "version": "3.12.3"
  }
 },
 "nbformat": 4,
 "nbformat_minor": 5
}
