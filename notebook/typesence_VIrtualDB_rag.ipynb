{
 "cells": [
  {
   "cell_type": "code",
   "execution_count": 1,
   "id": "b1ac3dcb",
   "metadata": {},
   "outputs": [
    {
     "data": {
      "text/plain": [
       "True"
      ]
     },
     "execution_count": 1,
     "metadata": {},
     "output_type": "execute_result"
    }
   ],
   "source": [
    "import typesense\n",
    "from dotenv import load_dotenv\n",
    "import os\n",
    "load_dotenv()"
   ]
  },
  {
   "cell_type": "code",
   "execution_count": 2,
   "id": "d6ae4a2f",
   "metadata": {},
   "outputs": [],
   "source": [
    "client = typesense.Client({\n",
    "    'nodes':[{\n",
    "        'host':'4pd87kfnbcvu1xs2p-1.a1.typesense.net',\n",
    "        'port':'443',\n",
    "        'protocol':'https'\n",
    "    }],\n",
    "    'api_key':os.getenv('typesense_API'),\n",
    "    'connection_timeout_seconds':2\n",
    "})"
   ]
  },
  {
   "cell_type": "code",
   "execution_count": 11,
   "id": "e4984238",
   "metadata": {},
   "outputs": [],
   "source": [
    "from langchain_community.document_loaders import TextLoader\n",
    "from langchain_community.vectorstores import Typesense\n",
    "from langchain_text_splitters import CharacterTextSplitter\n",
    "from langchain.embeddings import HuggingFaceEmbeddings\n",
    "from langchain_google_genai import ChatGoogleGenerativeAI\n"
   ]
  },
  {
   "cell_type": "code",
   "execution_count": 4,
   "id": "c3a4b4cd",
   "metadata": {},
   "outputs": [],
   "source": [
    "loader = TextLoader('../data/text_file/text_split.txt')\n",
    "Document = loader.load()\n",
    "text_splitter = CharacterTextSplitter(chunk_size=1000, chunk_overlap=100)\n",
    "docs = text_splitter.split_documents(Document)"
   ]
  },
  {
   "cell_type": "code",
   "execution_count": 5,
   "id": "4f96f4c3",
   "metadata": {},
   "outputs": [
    {
     "name": "stderr",
     "output_type": "stream",
     "text": [
      "/tmp/ipykernel_24783/3655315981.py:1: LangChainDeprecationWarning: The class `HuggingFaceEmbeddings` was deprecated in LangChain 0.2.2 and will be removed in 1.0. An updated version of the class exists in the :class:`~langchain-huggingface package and should be used instead. To use it run `pip install -U :class:`~langchain-huggingface` and import as `from :class:`~langchain_huggingface import HuggingFaceEmbeddings``.\n",
      "  embeddings = HuggingFaceEmbeddings()\n",
      "/tmp/ipykernel_24783/3655315981.py:1: LangChainDeprecationWarning: Default values for HuggingFaceEmbeddings.model_name were deprecated in LangChain 0.2.16 and will be removed in 0.4.0. Explicitly pass a model_name to the HuggingFaceEmbeddings constructor instead.\n",
      "  embeddings = HuggingFaceEmbeddings()\n",
      "/home/ayush/Documents/AI/Projects/Rag_Application/venv/lib/python3.12/site-packages/tqdm/auto.py:21: TqdmWarning: IProgress not found. Please update jupyter and ipywidgets. See https://ipywidgets.readthedocs.io/en/stable/user_install.html\n",
      "  from .autonotebook import tqdm as notebook_tqdm\n"
     ]
    }
   ],
   "source": [
    "embeddings = HuggingFaceEmbeddings()"
   ]
  },
  {
   "cell_type": "code",
   "execution_count": 6,
   "id": "f522cf21",
   "metadata": {},
   "outputs": [],
   "source": [
    "vectorDB = Typesense.from_documents(\n",
    "    docs,\n",
    "    embeddings,\n",
    "    typesense_client_params={\n",
    "        \"host\": \"4pd87kfnbcvu1xs2p-1.a1.typesense.net\",  \n",
    "        \"port\": \"443\",  \n",
    "        \"protocol\": \"https\",  \n",
    "        \"typesense_api_key\":os.getenv('typesense_API'),\n",
    "        \"typesense_collection_name\": \"lang-chain\"\n",
    "    }\n",
    ")"
   ]
  },
  {
   "cell_type": "code",
   "execution_count": 8,
   "id": "089462b2",
   "metadata": {},
   "outputs": [
    {
     "name": "stdout",
     "output_type": "stream",
     "text": [
      "--- Chunk 36 ---\n",
      "supported in bash. It uses backquotes instead of the dollar sign and parentheses.\n",
      "[me@linuxbox ~]$ ls -l `which cp`\n",
      "-rwxr-xr-x 1 root root 71516 2007-12-05 08:58 /bin/cp\n",
      "Quoting\n",
      "Now that we've seen how many ways the shell can perform expansions, it's time to learn\n",
      "how we can control it. Take for example the following:\n",
      "[me@linuxbox ~]$ echo this is a     test\n",
      "this is a test\n",
      "or this one:\n",
      "75\n",
      "\n",
      "--- Chunk 37 ---\n",
      "E. & O.E.\n",
      "page 1 of 1\n",
      "*Keep this invoice and \n",
      "manufacturer box for \n",
      "warranty purposes.\n",
      "Ship To\n",
      "Santosh Kumar \n",
      "Plot no74 sawastik enclev, Janpath \n",
      "road fulsunga.\n",
      "Rudrapur 263153 Uttarakhand \n",
      "Phone: xxxxxxxxxx \n",
      "Bill To\n",
      "Santosh Kumar \n",
      "Plot no74 sawastik enclev, Janpath \n",
      "road fulsunga.\n",
      "Rudrapur 263153 Uttarakhand \n",
      "Phone: xxxxxxxxxx \n",
      "Order ID: OD126318642060163000\n",
      " 21-10-2022\n",
      "Order Date:\n",
      " 22-10-2022\n",
      "Invoice Date:\n",
      " AAFCI2112P\n",
      "PAN:\n",
      " U51900DL2019PTC347263\n",
      "CIN:\n",
      "Invoice Number # FAFO7V2300034840\n"
     ]
    }
   ],
   "source": [
    "query = \"explain Quoting\"\n",
    "found_docs = vectorDB.similarity_search(query)\n",
    "print(found_docs[0].page_content)"
   ]
  },
  {
   "cell_type": "code",
   "execution_count": 9,
   "id": "3029fbbb",
   "metadata": {},
   "outputs": [],
   "source": [
    "retriever = vectorDB.as_retriever()"
   ]
  },
  {
   "cell_type": "code",
   "execution_count": 16,
   "id": "0b59e933",
   "metadata": {},
   "outputs": [],
   "source": [
    "context = retriever.invoke(query)[0].page_content"
   ]
  },
  {
   "cell_type": "code",
   "execution_count": 20,
   "id": "43e23b77",
   "metadata": {},
   "outputs": [
    {
     "data": {
      "text/plain": [
       "'Quoting in shell scripting allows you to control how the shell interprets special characters and commands. It prevents unintended expansions or execution of commands embedded within strings. Common quoting mechanisms include single quotes (`\\'`) which treat everything literally, and double quotes (`\"`) which allow for variable expansion and command substitution but prevent word splitting and globbing. Backticks (`` ` ``) are also used for command substitution, executing a command and replacing it with its output. Mastering quoting is essential for writing robust and predictable shell scripts.'"
      ]
     },
     "execution_count": 20,
     "metadata": {},
     "output_type": "execute_result"
    }
   ],
   "source": [
    "llm = ChatGoogleGenerativeAI(\n",
    "    api_key=os.getenv('GEMINI_API'),\n",
    "    model='gemini-2.5-flash-lite',\n",
    "    max_output_tokens=1024,\n",
    "    temperature=0.5\n",
    ")\n",
    "query1 = \"explain Quoting in 100 words\"\n",
    "prompt=f\"\"\"Use the following context to answer the question concisely.\n",
    "            Context:\n",
    "            {context}\n",
    "\n",
    "            Question: {query1}\n",
    "\n",
    "            Answer:\"\"\"\n",
    "response = llm.invoke([prompt])\n",
    "response.content"
   ]
  },
  {
   "cell_type": "code",
   "execution_count": null,
   "id": "1ead10f3",
   "metadata": {},
   "outputs": [],
   "source": []
  }
 ],
 "metadata": {
  "kernelspec": {
   "display_name": "venv",
   "language": "python",
   "name": "python3"
  },
  "language_info": {
   "codemirror_mode": {
    "name": "ipython",
    "version": 3
   },
   "file_extension": ".py",
   "mimetype": "text/x-python",
   "name": "python",
   "nbconvert_exporter": "python",
   "pygments_lexer": "ipython3",
   "version": "3.12.3"
  }
 },
 "nbformat": 4,
 "nbformat_minor": 5
}
